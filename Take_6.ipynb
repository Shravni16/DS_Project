{
 "cells": [
  {
   "cell_type": "code",
   "execution_count": 1,
   "id": "a02836d6",
   "metadata": {},
   "outputs": [],
   "source": [
    "import numpy as np\n",
    "import matplotlib.pyplot as plt\n",
    "import pandas as pd\n",
    "import seaborn as sns"
   ]
  },
  {
   "cell_type": "markdown",
   "id": "d46941e4",
   "metadata": {},
   "source": [
    "### Reading csv file"
   ]
  },
  {
   "cell_type": "code",
   "execution_count": 2,
   "id": "2de997af",
   "metadata": {},
   "outputs": [],
   "source": [
    "df = pd.read_csv(\"bank_fraud_dataset.csv\")"
   ]
  },
  {
   "cell_type": "markdown",
   "id": "ca0024bf",
   "metadata": {},
   "source": [
    "### Describing Data"
   ]
  },
  {
   "cell_type": "code",
   "execution_count": 3,
   "id": "12093eda",
   "metadata": {},
   "outputs": [
    {
     "data": {
      "text/html": [
       "<div>\n",
       "<style scoped>\n",
       "    .dataframe tbody tr th:only-of-type {\n",
       "        vertical-align: middle;\n",
       "    }\n",
       "\n",
       "    .dataframe tbody tr th {\n",
       "        vertical-align: top;\n",
       "    }\n",
       "\n",
       "    .dataframe thead th {\n",
       "        text-align: right;\n",
       "    }\n",
       "</style>\n",
       "<table border=\"1\" class=\"dataframe\">\n",
       "  <thead>\n",
       "    <tr style=\"text-align: right;\">\n",
       "      <th></th>\n",
       "      <th>Unnamed: 0</th>\n",
       "      <th>label</th>\n",
       "      <th>msisdn</th>\n",
       "      <th>aon</th>\n",
       "      <th>daily_decr30</th>\n",
       "      <th>daily_decr90</th>\n",
       "      <th>rental30</th>\n",
       "      <th>rental90</th>\n",
       "      <th>last_rech_date_ma</th>\n",
       "      <th>last_rech_date_da</th>\n",
       "      <th>...</th>\n",
       "      <th>maxamnt_loans30</th>\n",
       "      <th>medianamnt_loans30</th>\n",
       "      <th>cnt_loans90</th>\n",
       "      <th>amnt_loans90</th>\n",
       "      <th>maxamnt_loans90</th>\n",
       "      <th>medianamnt_loans90</th>\n",
       "      <th>payback30</th>\n",
       "      <th>payback90</th>\n",
       "      <th>pcircle</th>\n",
       "      <th>pdate</th>\n",
       "    </tr>\n",
       "  </thead>\n",
       "  <tbody>\n",
       "    <tr>\n",
       "      <th>count</th>\n",
       "      <td>190001.000000</td>\n",
       "      <td>190001.000000</td>\n",
       "      <td>190001</td>\n",
       "      <td>190001</td>\n",
       "      <td>190001</td>\n",
       "      <td>190001</td>\n",
       "      <td>190001</td>\n",
       "      <td>190001</td>\n",
       "      <td>190001.000000</td>\n",
       "      <td>190001.000000</td>\n",
       "      <td>...</td>\n",
       "      <td>190001.000000</td>\n",
       "      <td>190001.000000</td>\n",
       "      <td>190001.000000</td>\n",
       "      <td>190001.000000</td>\n",
       "      <td>190001.000000</td>\n",
       "      <td>190001.000000</td>\n",
       "      <td>190001.000000</td>\n",
       "      <td>190001.000000</td>\n",
       "      <td>190001</td>\n",
       "      <td>190001</td>\n",
       "    </tr>\n",
       "    <tr>\n",
       "      <th>unique</th>\n",
       "      <td>NaN</td>\n",
       "      <td>NaN</td>\n",
       "      <td>170612</td>\n",
       "      <td>4314</td>\n",
       "      <td>134590</td>\n",
       "      <td>142616</td>\n",
       "      <td>121357</td>\n",
       "      <td>128203</td>\n",
       "      <td>NaN</td>\n",
       "      <td>NaN</td>\n",
       "      <td>...</td>\n",
       "      <td>NaN</td>\n",
       "      <td>NaN</td>\n",
       "      <td>NaN</td>\n",
       "      <td>NaN</td>\n",
       "      <td>NaN</td>\n",
       "      <td>NaN</td>\n",
       "      <td>NaN</td>\n",
       "      <td>NaN</td>\n",
       "      <td>1</td>\n",
       "      <td>82</td>\n",
       "    </tr>\n",
       "    <tr>\n",
       "      <th>top</th>\n",
       "      <td>NaN</td>\n",
       "      <td>NaN</td>\n",
       "      <td>04581I85330</td>\n",
       "      <td>95</td>\n",
       "      <td>0</td>\n",
       "      <td>0</td>\n",
       "      <td>0</td>\n",
       "      <td>0</td>\n",
       "      <td>NaN</td>\n",
       "      <td>NaN</td>\n",
       "      <td>...</td>\n",
       "      <td>NaN</td>\n",
       "      <td>NaN</td>\n",
       "      <td>NaN</td>\n",
       "      <td>NaN</td>\n",
       "      <td>NaN</td>\n",
       "      <td>NaN</td>\n",
       "      <td>NaN</td>\n",
       "      <td>NaN</td>\n",
       "      <td>UPW</td>\n",
       "      <td>7/4/2016</td>\n",
       "    </tr>\n",
       "    <tr>\n",
       "      <th>freq</th>\n",
       "      <td>NaN</td>\n",
       "      <td>NaN</td>\n",
       "      <td>7</td>\n",
       "      <td>357</td>\n",
       "      <td>3741</td>\n",
       "      <td>3669</td>\n",
       "      <td>6802</td>\n",
       "      <td>6227</td>\n",
       "      <td>NaN</td>\n",
       "      <td>NaN</td>\n",
       "      <td>...</td>\n",
       "      <td>NaN</td>\n",
       "      <td>NaN</td>\n",
       "      <td>NaN</td>\n",
       "      <td>NaN</td>\n",
       "      <td>NaN</td>\n",
       "      <td>NaN</td>\n",
       "      <td>NaN</td>\n",
       "      <td>NaN</td>\n",
       "      <td>190001</td>\n",
       "      <td>2857</td>\n",
       "    </tr>\n",
       "    <tr>\n",
       "      <th>mean</th>\n",
       "      <td>95001.000000</td>\n",
       "      <td>0.875069</td>\n",
       "      <td>NaN</td>\n",
       "      <td>NaN</td>\n",
       "      <td>NaN</td>\n",
       "      <td>NaN</td>\n",
       "      <td>NaN</td>\n",
       "      <td>NaN</td>\n",
       "      <td>3735.346070</td>\n",
       "      <td>3731.710966</td>\n",
       "      <td>...</td>\n",
       "      <td>276.634790</td>\n",
       "      <td>0.054160</td>\n",
       "      <td>18.364699</td>\n",
       "      <td>23.639181</td>\n",
       "      <td>6.701870</td>\n",
       "      <td>0.046289</td>\n",
       "      <td>3.401179</td>\n",
       "      <td>4.322936</td>\n",
       "      <td>NaN</td>\n",
       "      <td>NaN</td>\n",
       "    </tr>\n",
       "    <tr>\n",
       "      <th>std</th>\n",
       "      <td>54848.708586</td>\n",
       "      <td>0.330641</td>\n",
       "      <td>NaN</td>\n",
       "      <td>NaN</td>\n",
       "      <td>NaN</td>\n",
       "      <td>NaN</td>\n",
       "      <td>NaN</td>\n",
       "      <td>NaN</td>\n",
       "      <td>53814.346634</td>\n",
       "      <td>53558.030669</td>\n",
       "      <td>...</td>\n",
       "      <td>4267.364414</td>\n",
       "      <td>0.218396</td>\n",
       "      <td>223.312555</td>\n",
       "      <td>26.503844</td>\n",
       "      <td>2.102752</td>\n",
       "      <td>0.201153</td>\n",
       "      <td>8.836749</td>\n",
       "      <td>10.318272</td>\n",
       "      <td>NaN</td>\n",
       "      <td>NaN</td>\n",
       "    </tr>\n",
       "    <tr>\n",
       "      <th>min</th>\n",
       "      <td>1.000000</td>\n",
       "      <td>0.000000</td>\n",
       "      <td>NaN</td>\n",
       "      <td>NaN</td>\n",
       "      <td>NaN</td>\n",
       "      <td>NaN</td>\n",
       "      <td>NaN</td>\n",
       "      <td>NaN</td>\n",
       "      <td>-29.000000</td>\n",
       "      <td>-29.000000</td>\n",
       "      <td>...</td>\n",
       "      <td>0.000000</td>\n",
       "      <td>0.000000</td>\n",
       "      <td>0.000000</td>\n",
       "      <td>0.000000</td>\n",
       "      <td>0.000000</td>\n",
       "      <td>0.000000</td>\n",
       "      <td>0.000000</td>\n",
       "      <td>0.000000</td>\n",
       "      <td>NaN</td>\n",
       "      <td>NaN</td>\n",
       "    </tr>\n",
       "    <tr>\n",
       "      <th>25%</th>\n",
       "      <td>47501.000000</td>\n",
       "      <td>1.000000</td>\n",
       "      <td>NaN</td>\n",
       "      <td>NaN</td>\n",
       "      <td>NaN</td>\n",
       "      <td>NaN</td>\n",
       "      <td>NaN</td>\n",
       "      <td>NaN</td>\n",
       "      <td>1.000000</td>\n",
       "      <td>0.000000</td>\n",
       "      <td>...</td>\n",
       "      <td>6.000000</td>\n",
       "      <td>0.000000</td>\n",
       "      <td>1.000000</td>\n",
       "      <td>6.000000</td>\n",
       "      <td>6.000000</td>\n",
       "      <td>0.000000</td>\n",
       "      <td>0.000000</td>\n",
       "      <td>0.000000</td>\n",
       "      <td>NaN</td>\n",
       "      <td>NaN</td>\n",
       "    </tr>\n",
       "    <tr>\n",
       "      <th>50%</th>\n",
       "      <td>95001.000000</td>\n",
       "      <td>1.000000</td>\n",
       "      <td>NaN</td>\n",
       "      <td>NaN</td>\n",
       "      <td>NaN</td>\n",
       "      <td>NaN</td>\n",
       "      <td>NaN</td>\n",
       "      <td>NaN</td>\n",
       "      <td>3.000000</td>\n",
       "      <td>0.000000</td>\n",
       "      <td>...</td>\n",
       "      <td>6.000000</td>\n",
       "      <td>0.000000</td>\n",
       "      <td>2.000000</td>\n",
       "      <td>12.000000</td>\n",
       "      <td>6.000000</td>\n",
       "      <td>0.000000</td>\n",
       "      <td>0.000000</td>\n",
       "      <td>1.666667</td>\n",
       "      <td>NaN</td>\n",
       "      <td>NaN</td>\n",
       "    </tr>\n",
       "    <tr>\n",
       "      <th>75%</th>\n",
       "      <td>142501.000000</td>\n",
       "      <td>1.000000</td>\n",
       "      <td>NaN</td>\n",
       "      <td>NaN</td>\n",
       "      <td>NaN</td>\n",
       "      <td>NaN</td>\n",
       "      <td>NaN</td>\n",
       "      <td>NaN</td>\n",
       "      <td>7.000000</td>\n",
       "      <td>0.000000</td>\n",
       "      <td>...</td>\n",
       "      <td>6.000000</td>\n",
       "      <td>0.000000</td>\n",
       "      <td>5.000000</td>\n",
       "      <td>30.000000</td>\n",
       "      <td>6.000000</td>\n",
       "      <td>0.000000</td>\n",
       "      <td>3.750000</td>\n",
       "      <td>4.500000</td>\n",
       "      <td>NaN</td>\n",
       "      <td>NaN</td>\n",
       "    </tr>\n",
       "    <tr>\n",
       "      <th>max</th>\n",
       "      <td>190001.000000</td>\n",
       "      <td>1.000000</td>\n",
       "      <td>NaN</td>\n",
       "      <td>NaN</td>\n",
       "      <td>NaN</td>\n",
       "      <td>NaN</td>\n",
       "      <td>NaN</td>\n",
       "      <td>NaN</td>\n",
       "      <td>997717.809600</td>\n",
       "      <td>999171.809400</td>\n",
       "      <td>...</td>\n",
       "      <td>99864.560860</td>\n",
       "      <td>3.000000</td>\n",
       "      <td>4997.517944</td>\n",
       "      <td>438.000000</td>\n",
       "      <td>12.000000</td>\n",
       "      <td>3.000000</td>\n",
       "      <td>171.500000</td>\n",
       "      <td>171.500000</td>\n",
       "      <td>NaN</td>\n",
       "      <td>NaN</td>\n",
       "    </tr>\n",
       "  </tbody>\n",
       "</table>\n",
       "<p>11 rows × 37 columns</p>\n",
       "</div>"
      ],
      "text/plain": [
       "           Unnamed: 0          label       msisdn     aon daily_decr30  \\\n",
       "count   190001.000000  190001.000000       190001  190001       190001   \n",
       "unique            NaN            NaN       170612    4314       134590   \n",
       "top               NaN            NaN  04581I85330      95            0   \n",
       "freq              NaN            NaN            7     357         3741   \n",
       "mean     95001.000000       0.875069          NaN     NaN          NaN   \n",
       "std      54848.708586       0.330641          NaN     NaN          NaN   \n",
       "min          1.000000       0.000000          NaN     NaN          NaN   \n",
       "25%      47501.000000       1.000000          NaN     NaN          NaN   \n",
       "50%      95001.000000       1.000000          NaN     NaN          NaN   \n",
       "75%     142501.000000       1.000000          NaN     NaN          NaN   \n",
       "max     190001.000000       1.000000          NaN     NaN          NaN   \n",
       "\n",
       "       daily_decr90 rental30 rental90  last_rech_date_ma  last_rech_date_da  \\\n",
       "count        190001   190001   190001      190001.000000      190001.000000   \n",
       "unique       142616   121357   128203                NaN                NaN   \n",
       "top               0        0        0                NaN                NaN   \n",
       "freq           3669     6802     6227                NaN                NaN   \n",
       "mean            NaN      NaN      NaN        3735.346070        3731.710966   \n",
       "std             NaN      NaN      NaN       53814.346634       53558.030669   \n",
       "min             NaN      NaN      NaN         -29.000000         -29.000000   \n",
       "25%             NaN      NaN      NaN           1.000000           0.000000   \n",
       "50%             NaN      NaN      NaN           3.000000           0.000000   \n",
       "75%             NaN      NaN      NaN           7.000000           0.000000   \n",
       "max             NaN      NaN      NaN      997717.809600      999171.809400   \n",
       "\n",
       "        ...  maxamnt_loans30  medianamnt_loans30    cnt_loans90  \\\n",
       "count   ...    190001.000000       190001.000000  190001.000000   \n",
       "unique  ...              NaN                 NaN            NaN   \n",
       "top     ...              NaN                 NaN            NaN   \n",
       "freq    ...              NaN                 NaN            NaN   \n",
       "mean    ...       276.634790            0.054160      18.364699   \n",
       "std     ...      4267.364414            0.218396     223.312555   \n",
       "min     ...         0.000000            0.000000       0.000000   \n",
       "25%     ...         6.000000            0.000000       1.000000   \n",
       "50%     ...         6.000000            0.000000       2.000000   \n",
       "75%     ...         6.000000            0.000000       5.000000   \n",
       "max     ...     99864.560860            3.000000    4997.517944   \n",
       "\n",
       "         amnt_loans90  maxamnt_loans90  medianamnt_loans90      payback30  \\\n",
       "count   190001.000000    190001.000000       190001.000000  190001.000000   \n",
       "unique            NaN              NaN                 NaN            NaN   \n",
       "top               NaN              NaN                 NaN            NaN   \n",
       "freq              NaN              NaN                 NaN            NaN   \n",
       "mean        23.639181         6.701870            0.046289       3.401179   \n",
       "std         26.503844         2.102752            0.201153       8.836749   \n",
       "min          0.000000         0.000000            0.000000       0.000000   \n",
       "25%          6.000000         6.000000            0.000000       0.000000   \n",
       "50%         12.000000         6.000000            0.000000       0.000000   \n",
       "75%         30.000000         6.000000            0.000000       3.750000   \n",
       "max        438.000000        12.000000            3.000000     171.500000   \n",
       "\n",
       "            payback90  pcircle     pdate  \n",
       "count   190001.000000   190001    190001  \n",
       "unique            NaN        1        82  \n",
       "top               NaN      UPW  7/4/2016  \n",
       "freq              NaN   190001      2857  \n",
       "mean         4.322936      NaN       NaN  \n",
       "std         10.318272      NaN       NaN  \n",
       "min          0.000000      NaN       NaN  \n",
       "25%          0.000000      NaN       NaN  \n",
       "50%          1.666667      NaN       NaN  \n",
       "75%          4.500000      NaN       NaN  \n",
       "max        171.500000      NaN       NaN  \n",
       "\n",
       "[11 rows x 37 columns]"
      ]
     },
     "execution_count": 3,
     "metadata": {},
     "output_type": "execute_result"
    }
   ],
   "source": [
    "df.describe(include=\"all\")"
   ]
  },
  {
   "cell_type": "code",
   "execution_count": 4,
   "id": "255ac3a7",
   "metadata": {},
   "outputs": [
    {
     "name": "stdout",
     "output_type": "stream",
     "text": [
      "<class 'pandas.core.frame.DataFrame'>\n",
      "RangeIndex: 190001 entries, 0 to 190000\n",
      "Data columns (total 37 columns):\n",
      " #   Column                Non-Null Count   Dtype  \n",
      "---  ------                --------------   -----  \n",
      " 0   Unnamed: 0            190001 non-null  int64  \n",
      " 1   label                 190001 non-null  int64  \n",
      " 2   msisdn                190001 non-null  object \n",
      " 3   aon                   190001 non-null  object \n",
      " 4   daily_decr30          190001 non-null  object \n",
      " 5   daily_decr90          190001 non-null  object \n",
      " 6   rental30              190001 non-null  object \n",
      " 7   rental90              190001 non-null  object \n",
      " 8   last_rech_date_ma     190001 non-null  float64\n",
      " 9   last_rech_date_da     190001 non-null  float64\n",
      " 10  last_rech_amt_ma      190001 non-null  int64  \n",
      " 11  cnt_ma_rech30         190001 non-null  int64  \n",
      " 12  fr_ma_rech30          190001 non-null  float64\n",
      " 13  sumamnt_ma_rech30     190001 non-null  float64\n",
      " 14  medianamnt_ma_rech30  190001 non-null  float64\n",
      " 15  medianmarechprebal30  190001 non-null  float64\n",
      " 16  cnt_ma_rech90         190001 non-null  int64  \n",
      " 17  fr_ma_rech90          190001 non-null  int64  \n",
      " 18  sumamnt_ma_rech90     190001 non-null  int64  \n",
      " 19  medianamnt_ma_rech90  190001 non-null  float64\n",
      " 20  medianmarechprebal90  190001 non-null  float64\n",
      " 21  cnt_da_rech30         190001 non-null  float64\n",
      " 22  fr_da_rech30          190001 non-null  float64\n",
      " 23  cnt_da_rech90         190001 non-null  int64  \n",
      " 24  fr_da_rech90          190001 non-null  int64  \n",
      " 25  cnt_loans30           190001 non-null  int64  \n",
      " 26  amnt_loans30          190001 non-null  int64  \n",
      " 27  maxamnt_loans30       190001 non-null  float64\n",
      " 28  medianamnt_loans30    190001 non-null  float64\n",
      " 29  cnt_loans90           190001 non-null  float64\n",
      " 30  amnt_loans90          190001 non-null  int64  \n",
      " 31  maxamnt_loans90       190001 non-null  int64  \n",
      " 32  medianamnt_loans90    190001 non-null  float64\n",
      " 33  payback30             190001 non-null  float64\n",
      " 34  payback90             190001 non-null  float64\n",
      " 35  pcircle               190001 non-null  object \n",
      " 36  pdate                 190001 non-null  object \n",
      "dtypes: float64(16), int64(13), object(8)\n",
      "memory usage: 53.6+ MB\n"
     ]
    }
   ],
   "source": [
    "df.info()"
   ]
  },
  {
   "cell_type": "markdown",
   "id": "5598d8bd",
   "metadata": {},
   "source": [
    "### Checking Null values"
   ]
  },
  {
   "cell_type": "code",
   "execution_count": 5,
   "id": "29a461a9",
   "metadata": {},
   "outputs": [
    {
     "data": {
      "text/plain": [
       "Unnamed: 0              0\n",
       "label                   0\n",
       "msisdn                  0\n",
       "aon                     0\n",
       "daily_decr30            0\n",
       "daily_decr90            0\n",
       "rental30                0\n",
       "rental90                0\n",
       "last_rech_date_ma       0\n",
       "last_rech_date_da       0\n",
       "last_rech_amt_ma        0\n",
       "cnt_ma_rech30           0\n",
       "fr_ma_rech30            0\n",
       "sumamnt_ma_rech30       0\n",
       "medianamnt_ma_rech30    0\n",
       "medianmarechprebal30    0\n",
       "cnt_ma_rech90           0\n",
       "fr_ma_rech90            0\n",
       "sumamnt_ma_rech90       0\n",
       "medianamnt_ma_rech90    0\n",
       "medianmarechprebal90    0\n",
       "cnt_da_rech30           0\n",
       "fr_da_rech30            0\n",
       "cnt_da_rech90           0\n",
       "fr_da_rech90            0\n",
       "cnt_loans30             0\n",
       "amnt_loans30            0\n",
       "maxamnt_loans30         0\n",
       "medianamnt_loans30      0\n",
       "cnt_loans90             0\n",
       "amnt_loans90            0\n",
       "maxamnt_loans90         0\n",
       "medianamnt_loans90      0\n",
       "payback30               0\n",
       "payback90               0\n",
       "pcircle                 0\n",
       "pdate                   0\n",
       "dtype: int64"
      ]
     },
     "execution_count": 5,
     "metadata": {},
     "output_type": "execute_result"
    }
   ],
   "source": [
    "df.isna().sum()"
   ]
  },
  {
   "cell_type": "markdown",
   "id": "87396305",
   "metadata": {},
   "source": [
    "### Changing Datatype of Features in Float in order to remove character values which can be considered as NULL values"
   ]
  },
  {
   "cell_type": "code",
   "execution_count": 6,
   "id": "15003ee1",
   "metadata": {},
   "outputs": [],
   "source": [
    "df['aon'] = pd.to_numeric(df['aon'], errors='coerce').astype(float)"
   ]
  },
  {
   "cell_type": "code",
   "execution_count": 7,
   "id": "5e118085",
   "metadata": {},
   "outputs": [],
   "source": [
    "new_data_types={'daily_decr30':float,'daily_decr90':float,'rental30':float,'rental90':float }"
   ]
  },
  {
   "cell_type": "code",
   "execution_count": 8,
   "id": "6b6f5ae2",
   "metadata": {},
   "outputs": [],
   "source": [
    "for key, value in new_data_types.items():\n",
    "    df[key] = pd.to_numeric(df[key], errors='coerce').astype(value)"
   ]
  },
  {
   "cell_type": "markdown",
   "id": "1d5775b4",
   "metadata": {},
   "source": [
    "# Handling Missing Values"
   ]
  },
  {
   "cell_type": "markdown",
   "id": "f3d9e744",
   "metadata": {},
   "source": [
    "### Again checking Null values"
   ]
  },
  {
   "cell_type": "code",
   "execution_count": 9,
   "id": "e721c7b7",
   "metadata": {},
   "outputs": [
    {
     "data": {
      "text/plain": [
       "Unnamed: 0                 0\n",
       "label                      0\n",
       "msisdn                     0\n",
       "aon                     1108\n",
       "daily_decr30            2299\n",
       "daily_decr90            1811\n",
       "rental30                1076\n",
       "rental90                 960\n",
       "last_rech_date_ma          0\n",
       "last_rech_date_da          0\n",
       "last_rech_amt_ma           0\n",
       "cnt_ma_rech30              0\n",
       "fr_ma_rech30               0\n",
       "sumamnt_ma_rech30          0\n",
       "medianamnt_ma_rech30       0\n",
       "medianmarechprebal30       0\n",
       "cnt_ma_rech90              0\n",
       "fr_ma_rech90               0\n",
       "sumamnt_ma_rech90          0\n",
       "medianamnt_ma_rech90       0\n",
       "medianmarechprebal90       0\n",
       "cnt_da_rech30              0\n",
       "fr_da_rech30               0\n",
       "cnt_da_rech90              0\n",
       "fr_da_rech90               0\n",
       "cnt_loans30                0\n",
       "amnt_loans30               0\n",
       "maxamnt_loans30            0\n",
       "medianamnt_loans30         0\n",
       "cnt_loans90                0\n",
       "amnt_loans90               0\n",
       "maxamnt_loans90            0\n",
       "medianamnt_loans90         0\n",
       "payback30                  0\n",
       "payback90                  0\n",
       "pcircle                    0\n",
       "pdate                      0\n",
       "dtype: int64"
      ]
     },
     "execution_count": 9,
     "metadata": {},
     "output_type": "execute_result"
    }
   ],
   "source": [
    "df.isna().sum()"
   ]
  },
  {
   "cell_type": "markdown",
   "id": "c268458d",
   "metadata": {},
   "source": [
    "### Filling Null values with mean"
   ]
  },
  {
   "cell_type": "code",
   "execution_count": 10,
   "id": "12142fc8",
   "metadata": {},
   "outputs": [],
   "source": [
    "fill_na_list=['aon', 'daily_decr30','daily_decr90', 'rental30', 'rental90']"
   ]
  },
  {
   "cell_type": "code",
   "execution_count": 11,
   "id": "3c65b143",
   "metadata": {},
   "outputs": [],
   "source": [
    "for item in fill_na_list:\n",
    "    df[item] = df[item].fillna(df[item].mean())"
   ]
  },
  {
   "cell_type": "code",
   "execution_count": 12,
   "id": "9a1fa83c",
   "metadata": {},
   "outputs": [
    {
     "data": {
      "text/plain": [
       "Unnamed: 0              0\n",
       "label                   0\n",
       "msisdn                  0\n",
       "aon                     0\n",
       "daily_decr30            0\n",
       "daily_decr90            0\n",
       "rental30                0\n",
       "rental90                0\n",
       "last_rech_date_ma       0\n",
       "last_rech_date_da       0\n",
       "last_rech_amt_ma        0\n",
       "cnt_ma_rech30           0\n",
       "fr_ma_rech30            0\n",
       "sumamnt_ma_rech30       0\n",
       "medianamnt_ma_rech30    0\n",
       "medianmarechprebal30    0\n",
       "cnt_ma_rech90           0\n",
       "fr_ma_rech90            0\n",
       "sumamnt_ma_rech90       0\n",
       "medianamnt_ma_rech90    0\n",
       "medianmarechprebal90    0\n",
       "cnt_da_rech30           0\n",
       "fr_da_rech30            0\n",
       "cnt_da_rech90           0\n",
       "fr_da_rech90            0\n",
       "cnt_loans30             0\n",
       "amnt_loans30            0\n",
       "maxamnt_loans30         0\n",
       "medianamnt_loans30      0\n",
       "cnt_loans90             0\n",
       "amnt_loans90            0\n",
       "maxamnt_loans90         0\n",
       "medianamnt_loans90      0\n",
       "payback30               0\n",
       "payback90               0\n",
       "pcircle                 0\n",
       "pdate                   0\n",
       "dtype: int64"
      ]
     },
     "execution_count": 12,
     "metadata": {},
     "output_type": "execute_result"
    }
   ],
   "source": [
    "df.isna().sum()"
   ]
  },
  {
   "cell_type": "markdown",
   "id": "71e66fad",
   "metadata": {},
   "source": [
    "# Feature Selection"
   ]
  },
  {
   "cell_type": "markdown",
   "id": "0d9ccf4b",
   "metadata": {},
   "source": [
    "### Dropping Most Unwanted Columns "
   ]
  },
  {
   "cell_type": "code",
   "execution_count": 13,
   "id": "f24c0b55",
   "metadata": {},
   "outputs": [],
   "source": [
    "df = df.drop(['msisdn','pcircle','pdate' ] ,axis='columns')"
   ]
  },
  {
   "cell_type": "code",
   "execution_count": 14,
   "id": "e06633f5",
   "metadata": {},
   "outputs": [],
   "source": [
    "df = df.drop(['Unnamed: 0'] ,axis='columns')"
   ]
  },
  {
   "cell_type": "markdown",
   "id": "8c3220ec",
   "metadata": {},
   "source": [
    "# Feature Extraction"
   ]
  },
  {
   "cell_type": "markdown",
   "id": "fe68ea7e",
   "metadata": {},
   "source": [
    "### Adding Similar Featres to avoid data loss(Mostly features that are calculated for 30 and 90 days are megred. Also features of data and main account are added so that less features columns will be selected and more information will obtain.)"
   ]
  },
  {
   "cell_type": "code",
   "execution_count": 15,
   "id": "2236f3f5",
   "metadata": {},
   "outputs": [],
   "source": [
    "df['daily_decr']= df['daily_decr30']+df['daily_decr90']"
   ]
  },
  {
   "cell_type": "markdown",
   "id": "72504a57",
   "metadata": {},
   "source": [
    "### Taking max in tow to know last date of recharge from data or main account"
   ]
  },
  {
   "cell_type": "code",
   "execution_count": 16,
   "id": "b276db1e",
   "metadata": {},
   "outputs": [],
   "source": [
    "df['last_date'] = df[['last_rech_date_da', 'last_rech_date_ma']].max(axis=1)"
   ]
  },
  {
   "cell_type": "code",
   "execution_count": 17,
   "id": "f4ec0173",
   "metadata": {},
   "outputs": [],
   "source": [
    "df['count']= df['cnt_da_rech30']+df['cnt_ma_rech30']+df['cnt_da_rech90']+df['cnt_ma_rech90']"
   ]
  },
  {
   "cell_type": "code",
   "execution_count": 18,
   "id": "0aae63ea",
   "metadata": {},
   "outputs": [],
   "source": [
    "df['Failure_rate']=df['fr_ma_rech30']+df['fr_ma_rech90']+df['fr_da_rech30']+df['fr_da_rech90']"
   ]
  },
  {
   "cell_type": "code",
   "execution_count": 19,
   "id": "c573fff8",
   "metadata": {},
   "outputs": [],
   "source": [
    "df['sumamnt']=df['sumamnt_ma_rech90']+df['sumamnt_ma_rech90']"
   ]
  },
  {
   "cell_type": "code",
   "execution_count": 20,
   "id": "19c37e33",
   "metadata": {},
   "outputs": [],
   "source": [
    "df['pre-balance']=df['medianmarechprebal30']+df['medianmarechprebal90']"
   ]
  },
  {
   "cell_type": "code",
   "execution_count": 21,
   "id": "d9f4a2aa",
   "metadata": {},
   "outputs": [],
   "source": [
    "df['count_loans']=df['cnt_loans30']+df['cnt_loans90']"
   ]
  },
  {
   "cell_type": "code",
   "execution_count": 22,
   "id": "39eaee75",
   "metadata": {},
   "outputs": [],
   "source": [
    "df['amnt_loans']=df['amnt_loans30']+df['amnt_loans90']"
   ]
  },
  {
   "cell_type": "code",
   "execution_count": 23,
   "id": "aa58158d",
   "metadata": {},
   "outputs": [],
   "source": [
    "df['max_loan__amt'] = df[['maxamnt_loans30', 'maxamnt_loans90']].max(axis=1)"
   ]
  },
  {
   "attachments": {},
   "cell_type": "markdown",
   "id": "c33bf115",
   "metadata": {},
   "source": [
    "### Payback Ratio is taken to know payback period"
   ]
  },
  {
   "cell_type": "code",
   "execution_count": 24,
   "id": "3e55f565",
   "metadata": {},
   "outputs": [],
   "source": [
    "df['payback_ratio']=df['payback30']/df['payback90']"
   ]
  },
  {
   "cell_type": "markdown",
   "id": "948ebed9",
   "metadata": {},
   "source": [
    "### There are some Not defined values generated in Payback Ratio Because of divide by zero"
   ]
  },
  {
   "cell_type": "code",
   "execution_count": 25,
   "id": "0c8e69f4",
   "metadata": {},
   "outputs": [
    {
     "data": {
      "text/plain": [
       "label                       0\n",
       "aon                         0\n",
       "daily_decr30                0\n",
       "daily_decr90                0\n",
       "rental30                    0\n",
       "rental90                    0\n",
       "last_rech_date_ma           0\n",
       "last_rech_date_da           0\n",
       "last_rech_amt_ma            0\n",
       "cnt_ma_rech30               0\n",
       "fr_ma_rech30                0\n",
       "sumamnt_ma_rech30           0\n",
       "medianamnt_ma_rech30        0\n",
       "medianmarechprebal30        0\n",
       "cnt_ma_rech90               0\n",
       "fr_ma_rech90                0\n",
       "sumamnt_ma_rech90           0\n",
       "medianamnt_ma_rech90        0\n",
       "medianmarechprebal90        0\n",
       "cnt_da_rech30               0\n",
       "fr_da_rech30                0\n",
       "cnt_da_rech90               0\n",
       "fr_da_rech90                0\n",
       "cnt_loans30                 0\n",
       "amnt_loans30                0\n",
       "maxamnt_loans30             0\n",
       "medianamnt_loans30          0\n",
       "cnt_loans90                 0\n",
       "amnt_loans90                0\n",
       "maxamnt_loans90             0\n",
       "medianamnt_loans90          0\n",
       "payback30                   0\n",
       "payback90                   0\n",
       "daily_decr                  0\n",
       "last_date                   0\n",
       "count                       0\n",
       "Failure_rate                0\n",
       "sumamnt                     0\n",
       "pre-balance                 0\n",
       "count_loans                 0\n",
       "amnt_loans                  0\n",
       "max_loan__amt               0\n",
       "payback_ratio           86816\n",
       "dtype: int64"
      ]
     },
     "execution_count": 25,
     "metadata": {},
     "output_type": "execute_result"
    }
   ],
   "source": [
    "df.isna().sum()"
   ]
  },
  {
   "cell_type": "code",
   "execution_count": 26,
   "id": "6b3a866e",
   "metadata": {},
   "outputs": [],
   "source": [
    "fill_na_list=['payback_ratio']"
   ]
  },
  {
   "cell_type": "code",
   "execution_count": 27,
   "id": "e6d5d120",
   "metadata": {},
   "outputs": [],
   "source": [
    "for item in fill_na_list:\n",
    "    df[item] = df[item].fillna(0.00)"
   ]
  },
  {
   "cell_type": "code",
   "execution_count": 28,
   "id": "f9fbd594",
   "metadata": {},
   "outputs": [
    {
     "data": {
      "text/plain": [
       "label                   0\n",
       "aon                     0\n",
       "daily_decr30            0\n",
       "daily_decr90            0\n",
       "rental30                0\n",
       "rental90                0\n",
       "last_rech_date_ma       0\n",
       "last_rech_date_da       0\n",
       "last_rech_amt_ma        0\n",
       "cnt_ma_rech30           0\n",
       "fr_ma_rech30            0\n",
       "sumamnt_ma_rech30       0\n",
       "medianamnt_ma_rech30    0\n",
       "medianmarechprebal30    0\n",
       "cnt_ma_rech90           0\n",
       "fr_ma_rech90            0\n",
       "sumamnt_ma_rech90       0\n",
       "medianamnt_ma_rech90    0\n",
       "medianmarechprebal90    0\n",
       "cnt_da_rech30           0\n",
       "fr_da_rech30            0\n",
       "cnt_da_rech90           0\n",
       "fr_da_rech90            0\n",
       "cnt_loans30             0\n",
       "amnt_loans30            0\n",
       "maxamnt_loans30         0\n",
       "medianamnt_loans30      0\n",
       "cnt_loans90             0\n",
       "amnt_loans90            0\n",
       "maxamnt_loans90         0\n",
       "medianamnt_loans90      0\n",
       "payback30               0\n",
       "payback90               0\n",
       "daily_decr              0\n",
       "last_date               0\n",
       "count                   0\n",
       "Failure_rate            0\n",
       "sumamnt                 0\n",
       "pre-balance             0\n",
       "count_loans             0\n",
       "amnt_loans              0\n",
       "max_loan__amt           0\n",
       "payback_ratio           0\n",
       "dtype: int64"
      ]
     },
     "execution_count": 28,
     "metadata": {},
     "output_type": "execute_result"
    }
   ],
   "source": [
    "df.isna().sum()"
   ]
  },
  {
   "cell_type": "markdown",
   "id": "2892b0f1",
   "metadata": {},
   "source": [
    "### Dropping Columns which are added above"
   ]
  },
  {
   "cell_type": "code",
   "execution_count": 29,
   "id": "529d2b60",
   "metadata": {},
   "outputs": [],
   "source": [
    "df = df.drop(['daily_decr30','daily_decr90','rental30','rental90','last_rech_date_da', 'last_rech_date_ma','cnt_da_rech30','cnt_da_rech90','cnt_ma_rech30','cnt_ma_rech90','fr_ma_rech30','fr_ma_rech90','fr_da_rech30','fr_da_rech90','sumamnt_ma_rech90','sumamnt_ma_rech30','medianmarechprebal30','medianmarechprebal90','cnt_loans30','cnt_loans90','amnt_loans30','amnt_loans90','maxamnt_loans30', 'maxamnt_loans90','payback30','payback90'] ,axis='columns')"
   ]
  },
  {
   "cell_type": "markdown",
   "id": "186383ea",
   "metadata": {},
   "source": [
    "### Checking Corealtion"
   ]
  },
  {
   "cell_type": "code",
   "execution_count": 30,
   "id": "0c523846",
   "metadata": {},
   "outputs": [
    {
     "data": {
      "text/html": [
       "<div>\n",
       "<style scoped>\n",
       "    .dataframe tbody tr th:only-of-type {\n",
       "        vertical-align: middle;\n",
       "    }\n",
       "\n",
       "    .dataframe tbody tr th {\n",
       "        vertical-align: top;\n",
       "    }\n",
       "\n",
       "    .dataframe thead th {\n",
       "        text-align: right;\n",
       "    }\n",
       "</style>\n",
       "<table border=\"1\" class=\"dataframe\">\n",
       "  <thead>\n",
       "    <tr style=\"text-align: right;\">\n",
       "      <th></th>\n",
       "      <th>label</th>\n",
       "      <th>aon</th>\n",
       "      <th>last_rech_amt_ma</th>\n",
       "      <th>medianamnt_ma_rech30</th>\n",
       "      <th>medianamnt_ma_rech90</th>\n",
       "      <th>medianamnt_loans30</th>\n",
       "      <th>medianamnt_loans90</th>\n",
       "      <th>daily_decr</th>\n",
       "      <th>last_date</th>\n",
       "      <th>count</th>\n",
       "      <th>Failure_rate</th>\n",
       "      <th>sumamnt</th>\n",
       "      <th>pre-balance</th>\n",
       "      <th>count_loans</th>\n",
       "      <th>amnt_loans</th>\n",
       "      <th>max_loan__amt</th>\n",
       "      <th>payback_ratio</th>\n",
       "    </tr>\n",
       "  </thead>\n",
       "  <tbody>\n",
       "    <tr>\n",
       "      <th>label</th>\n",
       "      <td>1.000000</td>\n",
       "      <td>-0.003327</td>\n",
       "      <td>0.130805</td>\n",
       "      <td>0.140745</td>\n",
       "      <td>0.119931</td>\n",
       "      <td>0.044759</td>\n",
       "      <td>0.036027</td>\n",
       "      <td>0.165512</td>\n",
       "      <td>0.003994</td>\n",
       "      <td>0.004215</td>\n",
       "      <td>-0.000163</td>\n",
       "      <td>0.205036</td>\n",
       "      <td>-0.003837</td>\n",
       "      <td>0.006448</td>\n",
       "      <td>0.203834</td>\n",
       "      <td>0.000299</td>\n",
       "      <td>0.248786</td>\n",
       "    </tr>\n",
       "    <tr>\n",
       "      <th>aon</th>\n",
       "      <td>-0.003327</td>\n",
       "      <td>1.000000</td>\n",
       "      <td>0.003906</td>\n",
       "      <td>0.003811</td>\n",
       "      <td>0.004313</td>\n",
       "      <td>0.005335</td>\n",
       "      <td>0.003288</td>\n",
       "      <td>-0.000833</td>\n",
       "      <td>0.000136</td>\n",
       "      <td>0.002058</td>\n",
       "      <td>0.000479</td>\n",
       "      <td>0.000006</td>\n",
       "      <td>0.003507</td>\n",
       "      <td>0.000046</td>\n",
       "      <td>-0.002097</td>\n",
       "      <td>-0.002443</td>\n",
       "      <td>-0.000273</td>\n",
       "    </tr>\n",
       "    <tr>\n",
       "      <th>last_rech_amt_ma</th>\n",
       "      <td>0.130805</td>\n",
       "      <td>0.003906</td>\n",
       "      <td>1.000000</td>\n",
       "      <td>0.795247</td>\n",
       "      <td>0.818428</td>\n",
       "      <td>0.028081</td>\n",
       "      <td>0.021031</td>\n",
       "      <td>0.270741</td>\n",
       "      <td>0.000386</td>\n",
       "      <td>-0.001613</td>\n",
       "      <td>-0.001372</td>\n",
       "      <td>0.417695</td>\n",
       "      <td>-0.001067</td>\n",
       "      <td>-0.000374</td>\n",
       "      <td>0.012258</td>\n",
       "      <td>0.001120</td>\n",
       "      <td>0.009294</td>\n",
       "    </tr>\n",
       "    <tr>\n",
       "      <th>medianamnt_ma_rech30</th>\n",
       "      <td>0.140745</td>\n",
       "      <td>0.003811</td>\n",
       "      <td>0.795247</td>\n",
       "      <td>1.000000</td>\n",
       "      <td>0.866292</td>\n",
       "      <td>0.032033</td>\n",
       "      <td>0.022367</td>\n",
       "      <td>0.289096</td>\n",
       "      <td>0.000213</td>\n",
       "      <td>0.000282</td>\n",
       "      <td>-0.002465</td>\n",
       "      <td>0.448507</td>\n",
       "      <td>0.000526</td>\n",
       "      <td>-0.001426</td>\n",
       "      <td>0.011834</td>\n",
       "      <td>0.002500</td>\n",
       "      <td>0.017991</td>\n",
       "    </tr>\n",
       "    <tr>\n",
       "      <th>medianamnt_ma_rech90</th>\n",
       "      <td>0.119931</td>\n",
       "      <td>0.004313</td>\n",
       "      <td>0.818428</td>\n",
       "      <td>0.866292</td>\n",
       "      <td>1.000000</td>\n",
       "      <td>0.036504</td>\n",
       "      <td>0.031665</td>\n",
       "      <td>0.255109</td>\n",
       "      <td>-0.000108</td>\n",
       "      <td>-0.002335</td>\n",
       "      <td>-0.003513</td>\n",
       "      <td>0.428913</td>\n",
       "      <td>0.000171</td>\n",
       "      <td>-0.000855</td>\n",
       "      <td>-0.024348</td>\n",
       "      <td>0.001377</td>\n",
       "      <td>-0.028226</td>\n",
       "    </tr>\n",
       "    <tr>\n",
       "      <th>medianamnt_loans30</th>\n",
       "      <td>0.044759</td>\n",
       "      <td>0.005335</td>\n",
       "      <td>0.028081</td>\n",
       "      <td>0.032033</td>\n",
       "      <td>0.036504</td>\n",
       "      <td>1.000000</td>\n",
       "      <td>0.912783</td>\n",
       "      <td>-0.008753</td>\n",
       "      <td>0.001691</td>\n",
       "      <td>-0.000361</td>\n",
       "      <td>-0.000486</td>\n",
       "      <td>-0.022472</td>\n",
       "      <td>-0.002681</td>\n",
       "      <td>-0.004011</td>\n",
       "      <td>-0.074694</td>\n",
       "      <td>0.008953</td>\n",
       "      <td>-0.080244</td>\n",
       "    </tr>\n",
       "    <tr>\n",
       "      <th>medianamnt_loans90</th>\n",
       "      <td>0.036027</td>\n",
       "      <td>0.003288</td>\n",
       "      <td>0.021031</td>\n",
       "      <td>0.022367</td>\n",
       "      <td>0.031665</td>\n",
       "      <td>0.912783</td>\n",
       "      <td>1.000000</td>\n",
       "      <td>-0.036184</td>\n",
       "      <td>0.000863</td>\n",
       "      <td>-0.002071</td>\n",
       "      <td>-0.001325</td>\n",
       "      <td>-0.042628</td>\n",
       "      <td>-0.002081</td>\n",
       "      <td>-0.003372</td>\n",
       "      <td>-0.095142</td>\n",
       "      <td>0.010420</td>\n",
       "      <td>-0.102269</td>\n",
       "    </tr>\n",
       "    <tr>\n",
       "      <th>daily_decr</th>\n",
       "      <td>0.165512</td>\n",
       "      <td>-0.000833</td>\n",
       "      <td>0.270741</td>\n",
       "      <td>0.289096</td>\n",
       "      <td>0.255109</td>\n",
       "      <td>-0.008753</td>\n",
       "      <td>-0.036184</td>\n",
       "      <td>1.000000</td>\n",
       "      <td>0.000305</td>\n",
       "      <td>0.000681</td>\n",
       "      <td>-0.001545</td>\n",
       "      <td>0.769384</td>\n",
       "      <td>-0.000032</td>\n",
       "      <td>0.013179</td>\n",
       "      <td>0.536757</td>\n",
       "      <td>0.000453</td>\n",
       "      <td>0.246978</td>\n",
       "    </tr>\n",
       "    <tr>\n",
       "      <th>last_date</th>\n",
       "      <td>0.003994</td>\n",
       "      <td>0.000136</td>\n",
       "      <td>0.000386</td>\n",
       "      <td>0.000213</td>\n",
       "      <td>-0.000108</td>\n",
       "      <td>0.001691</td>\n",
       "      <td>0.000863</td>\n",
       "      <td>0.000305</td>\n",
       "      <td>1.000000</td>\n",
       "      <td>-0.004915</td>\n",
       "      <td>-0.002612</td>\n",
       "      <td>0.001578</td>\n",
       "      <td>0.006180</td>\n",
       "      <td>-0.001747</td>\n",
       "      <td>0.001721</td>\n",
       "      <td>0.001064</td>\n",
       "      <td>-0.001041</td>\n",
       "    </tr>\n",
       "    <tr>\n",
       "      <th>count</th>\n",
       "      <td>0.004215</td>\n",
       "      <td>0.002058</td>\n",
       "      <td>-0.001613</td>\n",
       "      <td>0.000282</td>\n",
       "      <td>-0.002335</td>\n",
       "      <td>-0.000361</td>\n",
       "      <td>-0.002071</td>\n",
       "      <td>0.000681</td>\n",
       "      <td>-0.004915</td>\n",
       "      <td>1.000000</td>\n",
       "      <td>0.004204</td>\n",
       "      <td>0.004330</td>\n",
       "      <td>-0.003499</td>\n",
       "      <td>-0.001680</td>\n",
       "      <td>0.004713</td>\n",
       "      <td>-0.000090</td>\n",
       "      <td>0.005033</td>\n",
       "    </tr>\n",
       "    <tr>\n",
       "      <th>Failure_rate</th>\n",
       "      <td>-0.000163</td>\n",
       "      <td>0.000479</td>\n",
       "      <td>-0.001372</td>\n",
       "      <td>-0.002465</td>\n",
       "      <td>-0.003513</td>\n",
       "      <td>-0.000486</td>\n",
       "      <td>-0.001325</td>\n",
       "      <td>-0.001545</td>\n",
       "      <td>-0.002612</td>\n",
       "      <td>0.004204</td>\n",
       "      <td>1.000000</td>\n",
       "      <td>-0.002179</td>\n",
       "      <td>0.001040</td>\n",
       "      <td>0.001673</td>\n",
       "      <td>-0.000739</td>\n",
       "      <td>-0.002284</td>\n",
       "      <td>0.000704</td>\n",
       "    </tr>\n",
       "    <tr>\n",
       "      <th>sumamnt</th>\n",
       "      <td>0.205036</td>\n",
       "      <td>0.000006</td>\n",
       "      <td>0.417695</td>\n",
       "      <td>0.448507</td>\n",
       "      <td>0.428913</td>\n",
       "      <td>-0.022472</td>\n",
       "      <td>-0.042628</td>\n",
       "      <td>0.769384</td>\n",
       "      <td>0.001578</td>\n",
       "      <td>0.004330</td>\n",
       "      <td>-0.002179</td>\n",
       "      <td>1.000000</td>\n",
       "      <td>0.000940</td>\n",
       "      <td>0.016903</td>\n",
       "      <td>0.554049</td>\n",
       "      <td>0.001463</td>\n",
       "      <td>0.311061</td>\n",
       "    </tr>\n",
       "    <tr>\n",
       "      <th>pre-balance</th>\n",
       "      <td>-0.003837</td>\n",
       "      <td>0.003507</td>\n",
       "      <td>-0.001067</td>\n",
       "      <td>0.000526</td>\n",
       "      <td>0.000171</td>\n",
       "      <td>-0.002681</td>\n",
       "      <td>-0.002081</td>\n",
       "      <td>-0.000032</td>\n",
       "      <td>0.006180</td>\n",
       "      <td>-0.003499</td>\n",
       "      <td>0.001040</td>\n",
       "      <td>0.000940</td>\n",
       "      <td>1.000000</td>\n",
       "      <td>0.002052</td>\n",
       "      <td>0.001771</td>\n",
       "      <td>-0.001946</td>\n",
       "      <td>0.000796</td>\n",
       "    </tr>\n",
       "    <tr>\n",
       "      <th>count_loans</th>\n",
       "      <td>0.006448</td>\n",
       "      <td>0.000046</td>\n",
       "      <td>-0.000374</td>\n",
       "      <td>-0.001426</td>\n",
       "      <td>-0.000855</td>\n",
       "      <td>-0.004011</td>\n",
       "      <td>-0.003372</td>\n",
       "      <td>0.013179</td>\n",
       "      <td>-0.001747</td>\n",
       "      <td>-0.001680</td>\n",
       "      <td>0.001673</td>\n",
       "      <td>0.016903</td>\n",
       "      <td>0.002052</td>\n",
       "      <td>1.000000</td>\n",
       "      <td>0.028763</td>\n",
       "      <td>0.004851</td>\n",
       "      <td>0.017667</td>\n",
       "    </tr>\n",
       "    <tr>\n",
       "      <th>amnt_loans</th>\n",
       "      <td>0.203834</td>\n",
       "      <td>-0.002097</td>\n",
       "      <td>0.012258</td>\n",
       "      <td>0.011834</td>\n",
       "      <td>-0.024348</td>\n",
       "      <td>-0.074694</td>\n",
       "      <td>-0.095142</td>\n",
       "      <td>0.536757</td>\n",
       "      <td>0.001721</td>\n",
       "      <td>0.004713</td>\n",
       "      <td>-0.000739</td>\n",
       "      <td>0.554049</td>\n",
       "      <td>0.001771</td>\n",
       "      <td>0.028763</td>\n",
       "      <td>1.000000</td>\n",
       "      <td>-0.001298</td>\n",
       "      <td>0.562579</td>\n",
       "    </tr>\n",
       "    <tr>\n",
       "      <th>max_loan__amt</th>\n",
       "      <td>0.000299</td>\n",
       "      <td>-0.002443</td>\n",
       "      <td>0.001120</td>\n",
       "      <td>0.002500</td>\n",
       "      <td>0.001377</td>\n",
       "      <td>0.008953</td>\n",
       "      <td>0.010420</td>\n",
       "      <td>0.000453</td>\n",
       "      <td>0.001064</td>\n",
       "      <td>-0.000090</td>\n",
       "      <td>-0.002284</td>\n",
       "      <td>0.001463</td>\n",
       "      <td>-0.001946</td>\n",
       "      <td>0.004851</td>\n",
       "      <td>-0.001298</td>\n",
       "      <td>1.000000</td>\n",
       "      <td>0.000652</td>\n",
       "    </tr>\n",
       "    <tr>\n",
       "      <th>payback_ratio</th>\n",
       "      <td>0.248786</td>\n",
       "      <td>-0.000273</td>\n",
       "      <td>0.009294</td>\n",
       "      <td>0.017991</td>\n",
       "      <td>-0.028226</td>\n",
       "      <td>-0.080244</td>\n",
       "      <td>-0.102269</td>\n",
       "      <td>0.246978</td>\n",
       "      <td>-0.001041</td>\n",
       "      <td>0.005033</td>\n",
       "      <td>0.000704</td>\n",
       "      <td>0.311061</td>\n",
       "      <td>0.000796</td>\n",
       "      <td>0.017667</td>\n",
       "      <td>0.562579</td>\n",
       "      <td>0.000652</td>\n",
       "      <td>1.000000</td>\n",
       "    </tr>\n",
       "  </tbody>\n",
       "</table>\n",
       "</div>"
      ],
      "text/plain": [
       "                         label       aon  last_rech_amt_ma  \\\n",
       "label                 1.000000 -0.003327          0.130805   \n",
       "aon                  -0.003327  1.000000          0.003906   \n",
       "last_rech_amt_ma      0.130805  0.003906          1.000000   \n",
       "medianamnt_ma_rech30  0.140745  0.003811          0.795247   \n",
       "medianamnt_ma_rech90  0.119931  0.004313          0.818428   \n",
       "medianamnt_loans30    0.044759  0.005335          0.028081   \n",
       "medianamnt_loans90    0.036027  0.003288          0.021031   \n",
       "daily_decr            0.165512 -0.000833          0.270741   \n",
       "last_date             0.003994  0.000136          0.000386   \n",
       "count                 0.004215  0.002058         -0.001613   \n",
       "Failure_rate         -0.000163  0.000479         -0.001372   \n",
       "sumamnt               0.205036  0.000006          0.417695   \n",
       "pre-balance          -0.003837  0.003507         -0.001067   \n",
       "count_loans           0.006448  0.000046         -0.000374   \n",
       "amnt_loans            0.203834 -0.002097          0.012258   \n",
       "max_loan__amt         0.000299 -0.002443          0.001120   \n",
       "payback_ratio         0.248786 -0.000273          0.009294   \n",
       "\n",
       "                      medianamnt_ma_rech30  medianamnt_ma_rech90  \\\n",
       "label                             0.140745              0.119931   \n",
       "aon                               0.003811              0.004313   \n",
       "last_rech_amt_ma                  0.795247              0.818428   \n",
       "medianamnt_ma_rech30              1.000000              0.866292   \n",
       "medianamnt_ma_rech90              0.866292              1.000000   \n",
       "medianamnt_loans30                0.032033              0.036504   \n",
       "medianamnt_loans90                0.022367              0.031665   \n",
       "daily_decr                        0.289096              0.255109   \n",
       "last_date                         0.000213             -0.000108   \n",
       "count                             0.000282             -0.002335   \n",
       "Failure_rate                     -0.002465             -0.003513   \n",
       "sumamnt                           0.448507              0.428913   \n",
       "pre-balance                       0.000526              0.000171   \n",
       "count_loans                      -0.001426             -0.000855   \n",
       "amnt_loans                        0.011834             -0.024348   \n",
       "max_loan__amt                     0.002500              0.001377   \n",
       "payback_ratio                     0.017991             -0.028226   \n",
       "\n",
       "                      medianamnt_loans30  medianamnt_loans90  daily_decr  \\\n",
       "label                           0.044759            0.036027    0.165512   \n",
       "aon                             0.005335            0.003288   -0.000833   \n",
       "last_rech_amt_ma                0.028081            0.021031    0.270741   \n",
       "medianamnt_ma_rech30            0.032033            0.022367    0.289096   \n",
       "medianamnt_ma_rech90            0.036504            0.031665    0.255109   \n",
       "medianamnt_loans30              1.000000            0.912783   -0.008753   \n",
       "medianamnt_loans90              0.912783            1.000000   -0.036184   \n",
       "daily_decr                     -0.008753           -0.036184    1.000000   \n",
       "last_date                       0.001691            0.000863    0.000305   \n",
       "count                          -0.000361           -0.002071    0.000681   \n",
       "Failure_rate                   -0.000486           -0.001325   -0.001545   \n",
       "sumamnt                        -0.022472           -0.042628    0.769384   \n",
       "pre-balance                    -0.002681           -0.002081   -0.000032   \n",
       "count_loans                    -0.004011           -0.003372    0.013179   \n",
       "amnt_loans                     -0.074694           -0.095142    0.536757   \n",
       "max_loan__amt                   0.008953            0.010420    0.000453   \n",
       "payback_ratio                  -0.080244           -0.102269    0.246978   \n",
       "\n",
       "                      last_date     count  Failure_rate   sumamnt  \\\n",
       "label                  0.003994  0.004215     -0.000163  0.205036   \n",
       "aon                    0.000136  0.002058      0.000479  0.000006   \n",
       "last_rech_amt_ma       0.000386 -0.001613     -0.001372  0.417695   \n",
       "medianamnt_ma_rech30   0.000213  0.000282     -0.002465  0.448507   \n",
       "medianamnt_ma_rech90  -0.000108 -0.002335     -0.003513  0.428913   \n",
       "medianamnt_loans30     0.001691 -0.000361     -0.000486 -0.022472   \n",
       "medianamnt_loans90     0.000863 -0.002071     -0.001325 -0.042628   \n",
       "daily_decr             0.000305  0.000681     -0.001545  0.769384   \n",
       "last_date              1.000000 -0.004915     -0.002612  0.001578   \n",
       "count                 -0.004915  1.000000      0.004204  0.004330   \n",
       "Failure_rate          -0.002612  0.004204      1.000000 -0.002179   \n",
       "sumamnt                0.001578  0.004330     -0.002179  1.000000   \n",
       "pre-balance            0.006180 -0.003499      0.001040  0.000940   \n",
       "count_loans           -0.001747 -0.001680      0.001673  0.016903   \n",
       "amnt_loans             0.001721  0.004713     -0.000739  0.554049   \n",
       "max_loan__amt          0.001064 -0.000090     -0.002284  0.001463   \n",
       "payback_ratio         -0.001041  0.005033      0.000704  0.311061   \n",
       "\n",
       "                      pre-balance  count_loans  amnt_loans  max_loan__amt  \\\n",
       "label                   -0.003837     0.006448    0.203834       0.000299   \n",
       "aon                      0.003507     0.000046   -0.002097      -0.002443   \n",
       "last_rech_amt_ma        -0.001067    -0.000374    0.012258       0.001120   \n",
       "medianamnt_ma_rech30     0.000526    -0.001426    0.011834       0.002500   \n",
       "medianamnt_ma_rech90     0.000171    -0.000855   -0.024348       0.001377   \n",
       "medianamnt_loans30      -0.002681    -0.004011   -0.074694       0.008953   \n",
       "medianamnt_loans90      -0.002081    -0.003372   -0.095142       0.010420   \n",
       "daily_decr              -0.000032     0.013179    0.536757       0.000453   \n",
       "last_date                0.006180    -0.001747    0.001721       0.001064   \n",
       "count                   -0.003499    -0.001680    0.004713      -0.000090   \n",
       "Failure_rate             0.001040     0.001673   -0.000739      -0.002284   \n",
       "sumamnt                  0.000940     0.016903    0.554049       0.001463   \n",
       "pre-balance              1.000000     0.002052    0.001771      -0.001946   \n",
       "count_loans              0.002052     1.000000    0.028763       0.004851   \n",
       "amnt_loans               0.001771     0.028763    1.000000      -0.001298   \n",
       "max_loan__amt           -0.001946     0.004851   -0.001298       1.000000   \n",
       "payback_ratio            0.000796     0.017667    0.562579       0.000652   \n",
       "\n",
       "                      payback_ratio  \n",
       "label                      0.248786  \n",
       "aon                       -0.000273  \n",
       "last_rech_amt_ma           0.009294  \n",
       "medianamnt_ma_rech30       0.017991  \n",
       "medianamnt_ma_rech90      -0.028226  \n",
       "medianamnt_loans30        -0.080244  \n",
       "medianamnt_loans90        -0.102269  \n",
       "daily_decr                 0.246978  \n",
       "last_date                 -0.001041  \n",
       "count                      0.005033  \n",
       "Failure_rate               0.000704  \n",
       "sumamnt                    0.311061  \n",
       "pre-balance                0.000796  \n",
       "count_loans                0.017667  \n",
       "amnt_loans                 0.562579  \n",
       "max_loan__amt              0.000652  \n",
       "payback_ratio              1.000000  "
      ]
     },
     "execution_count": 30,
     "metadata": {},
     "output_type": "execute_result"
    }
   ],
   "source": [
    "df.corr(numeric_only=True)"
   ]
  },
  {
   "cell_type": "markdown",
   "id": "4f12a80a",
   "metadata": {},
   "source": [
    "### Removing one of feature which are highly corelated with each other upto 0.7"
   ]
  },
  {
   "cell_type": "code",
   "execution_count": 31,
   "id": "5a2e9cff",
   "metadata": {},
   "outputs": [],
   "source": [
    "correlation_matrix = df.corr()\n",
    "correlation_threshold = 0.7\n",
    "correlated_features = set()\n",
    "for i in range(len(correlation_matrix.columns)):\n",
    "    for j in range(i):\n",
    "        if abs(correlation_matrix.iloc[i, j]) > correlation_threshold:\n",
    "            colname = correlation_matrix.columns[i]\n",
    "            correlated_features.add(colname)"
   ]
  },
  {
   "cell_type": "code",
   "execution_count": 32,
   "id": "22d310ac",
   "metadata": {},
   "outputs": [],
   "source": [
    "df = df.drop(correlated_features, axis=1)"
   ]
  },
  {
   "cell_type": "markdown",
   "id": "3142f3f1",
   "metadata": {},
   "source": [
    "### Dropping Featues which are not Most likely corealated with output feature \"Label\" because they will not make major changes in result"
   ]
  },
  {
   "cell_type": "code",
   "execution_count": 33,
   "id": "17e74ce1",
   "metadata": {},
   "outputs": [],
   "source": [
    "df = df.drop(['aon','Failure_rate','pre-balance',], axis=1)"
   ]
  },
  {
   "cell_type": "markdown",
   "id": "45090671",
   "metadata": {},
   "source": [
    "### Saving the processed data in csv file 'optimized_dataset.csv' which will be used in streamlit file"
   ]
  },
  {
   "cell_type": "code",
   "execution_count": 34,
   "id": "e6ef9571",
   "metadata": {},
   "outputs": [],
   "source": [
    "df.to_csv('optimized_dataset.csv', index=False)"
   ]
  },
  {
   "cell_type": "code",
   "execution_count": 35,
   "id": "94f14e6f",
   "metadata": {},
   "outputs": [
    {
     "data": {
      "text/html": [
       "<div>\n",
       "<style scoped>\n",
       "    .dataframe tbody tr th:only-of-type {\n",
       "        vertical-align: middle;\n",
       "    }\n",
       "\n",
       "    .dataframe tbody tr th {\n",
       "        vertical-align: top;\n",
       "    }\n",
       "\n",
       "    .dataframe thead th {\n",
       "        text-align: right;\n",
       "    }\n",
       "</style>\n",
       "<table border=\"1\" class=\"dataframe\">\n",
       "  <thead>\n",
       "    <tr style=\"text-align: right;\">\n",
       "      <th></th>\n",
       "      <th>label</th>\n",
       "      <th>last_rech_amt_ma</th>\n",
       "      <th>medianamnt_loans30</th>\n",
       "      <th>daily_decr</th>\n",
       "      <th>last_date</th>\n",
       "      <th>count</th>\n",
       "      <th>count_loans</th>\n",
       "      <th>amnt_loans</th>\n",
       "      <th>max_loan__amt</th>\n",
       "      <th>payback_ratio</th>\n",
       "    </tr>\n",
       "  </thead>\n",
       "  <tbody>\n",
       "    <tr>\n",
       "      <th>label</th>\n",
       "      <td>1.000000</td>\n",
       "      <td>0.130805</td>\n",
       "      <td>0.044759</td>\n",
       "      <td>0.165512</td>\n",
       "      <td>0.003994</td>\n",
       "      <td>0.004215</td>\n",
       "      <td>0.006448</td>\n",
       "      <td>0.203834</td>\n",
       "      <td>0.000299</td>\n",
       "      <td>0.248786</td>\n",
       "    </tr>\n",
       "    <tr>\n",
       "      <th>last_rech_amt_ma</th>\n",
       "      <td>0.130805</td>\n",
       "      <td>1.000000</td>\n",
       "      <td>0.028081</td>\n",
       "      <td>0.270741</td>\n",
       "      <td>0.000386</td>\n",
       "      <td>-0.001613</td>\n",
       "      <td>-0.000374</td>\n",
       "      <td>0.012258</td>\n",
       "      <td>0.001120</td>\n",
       "      <td>0.009294</td>\n",
       "    </tr>\n",
       "    <tr>\n",
       "      <th>medianamnt_loans30</th>\n",
       "      <td>0.044759</td>\n",
       "      <td>0.028081</td>\n",
       "      <td>1.000000</td>\n",
       "      <td>-0.008753</td>\n",
       "      <td>0.001691</td>\n",
       "      <td>-0.000361</td>\n",
       "      <td>-0.004011</td>\n",
       "      <td>-0.074694</td>\n",
       "      <td>0.008953</td>\n",
       "      <td>-0.080244</td>\n",
       "    </tr>\n",
       "    <tr>\n",
       "      <th>daily_decr</th>\n",
       "      <td>0.165512</td>\n",
       "      <td>0.270741</td>\n",
       "      <td>-0.008753</td>\n",
       "      <td>1.000000</td>\n",
       "      <td>0.000305</td>\n",
       "      <td>0.000681</td>\n",
       "      <td>0.013179</td>\n",
       "      <td>0.536757</td>\n",
       "      <td>0.000453</td>\n",
       "      <td>0.246978</td>\n",
       "    </tr>\n",
       "    <tr>\n",
       "      <th>last_date</th>\n",
       "      <td>0.003994</td>\n",
       "      <td>0.000386</td>\n",
       "      <td>0.001691</td>\n",
       "      <td>0.000305</td>\n",
       "      <td>1.000000</td>\n",
       "      <td>-0.004915</td>\n",
       "      <td>-0.001747</td>\n",
       "      <td>0.001721</td>\n",
       "      <td>0.001064</td>\n",
       "      <td>-0.001041</td>\n",
       "    </tr>\n",
       "    <tr>\n",
       "      <th>count</th>\n",
       "      <td>0.004215</td>\n",
       "      <td>-0.001613</td>\n",
       "      <td>-0.000361</td>\n",
       "      <td>0.000681</td>\n",
       "      <td>-0.004915</td>\n",
       "      <td>1.000000</td>\n",
       "      <td>-0.001680</td>\n",
       "      <td>0.004713</td>\n",
       "      <td>-0.000090</td>\n",
       "      <td>0.005033</td>\n",
       "    </tr>\n",
       "    <tr>\n",
       "      <th>count_loans</th>\n",
       "      <td>0.006448</td>\n",
       "      <td>-0.000374</td>\n",
       "      <td>-0.004011</td>\n",
       "      <td>0.013179</td>\n",
       "      <td>-0.001747</td>\n",
       "      <td>-0.001680</td>\n",
       "      <td>1.000000</td>\n",
       "      <td>0.028763</td>\n",
       "      <td>0.004851</td>\n",
       "      <td>0.017667</td>\n",
       "    </tr>\n",
       "    <tr>\n",
       "      <th>amnt_loans</th>\n",
       "      <td>0.203834</td>\n",
       "      <td>0.012258</td>\n",
       "      <td>-0.074694</td>\n",
       "      <td>0.536757</td>\n",
       "      <td>0.001721</td>\n",
       "      <td>0.004713</td>\n",
       "      <td>0.028763</td>\n",
       "      <td>1.000000</td>\n",
       "      <td>-0.001298</td>\n",
       "      <td>0.562579</td>\n",
       "    </tr>\n",
       "    <tr>\n",
       "      <th>max_loan__amt</th>\n",
       "      <td>0.000299</td>\n",
       "      <td>0.001120</td>\n",
       "      <td>0.008953</td>\n",
       "      <td>0.000453</td>\n",
       "      <td>0.001064</td>\n",
       "      <td>-0.000090</td>\n",
       "      <td>0.004851</td>\n",
       "      <td>-0.001298</td>\n",
       "      <td>1.000000</td>\n",
       "      <td>0.000652</td>\n",
       "    </tr>\n",
       "    <tr>\n",
       "      <th>payback_ratio</th>\n",
       "      <td>0.248786</td>\n",
       "      <td>0.009294</td>\n",
       "      <td>-0.080244</td>\n",
       "      <td>0.246978</td>\n",
       "      <td>-0.001041</td>\n",
       "      <td>0.005033</td>\n",
       "      <td>0.017667</td>\n",
       "      <td>0.562579</td>\n",
       "      <td>0.000652</td>\n",
       "      <td>1.000000</td>\n",
       "    </tr>\n",
       "  </tbody>\n",
       "</table>\n",
       "</div>"
      ],
      "text/plain": [
       "                       label  last_rech_amt_ma  medianamnt_loans30  \\\n",
       "label               1.000000          0.130805            0.044759   \n",
       "last_rech_amt_ma    0.130805          1.000000            0.028081   \n",
       "medianamnt_loans30  0.044759          0.028081            1.000000   \n",
       "daily_decr          0.165512          0.270741           -0.008753   \n",
       "last_date           0.003994          0.000386            0.001691   \n",
       "count               0.004215         -0.001613           -0.000361   \n",
       "count_loans         0.006448         -0.000374           -0.004011   \n",
       "amnt_loans          0.203834          0.012258           -0.074694   \n",
       "max_loan__amt       0.000299          0.001120            0.008953   \n",
       "payback_ratio       0.248786          0.009294           -0.080244   \n",
       "\n",
       "                    daily_decr  last_date     count  count_loans  amnt_loans  \\\n",
       "label                 0.165512   0.003994  0.004215     0.006448    0.203834   \n",
       "last_rech_amt_ma      0.270741   0.000386 -0.001613    -0.000374    0.012258   \n",
       "medianamnt_loans30   -0.008753   0.001691 -0.000361    -0.004011   -0.074694   \n",
       "daily_decr            1.000000   0.000305  0.000681     0.013179    0.536757   \n",
       "last_date             0.000305   1.000000 -0.004915    -0.001747    0.001721   \n",
       "count                 0.000681  -0.004915  1.000000    -0.001680    0.004713   \n",
       "count_loans           0.013179  -0.001747 -0.001680     1.000000    0.028763   \n",
       "amnt_loans            0.536757   0.001721  0.004713     0.028763    1.000000   \n",
       "max_loan__amt         0.000453   0.001064 -0.000090     0.004851   -0.001298   \n",
       "payback_ratio         0.246978  -0.001041  0.005033     0.017667    0.562579   \n",
       "\n",
       "                    max_loan__amt  payback_ratio  \n",
       "label                    0.000299       0.248786  \n",
       "last_rech_amt_ma         0.001120       0.009294  \n",
       "medianamnt_loans30       0.008953      -0.080244  \n",
       "daily_decr               0.000453       0.246978  \n",
       "last_date                0.001064      -0.001041  \n",
       "count                   -0.000090       0.005033  \n",
       "count_loans              0.004851       0.017667  \n",
       "amnt_loans              -0.001298       0.562579  \n",
       "max_loan__amt            1.000000       0.000652  \n",
       "payback_ratio            0.000652       1.000000  "
      ]
     },
     "execution_count": 35,
     "metadata": {},
     "output_type": "execute_result"
    }
   ],
   "source": [
    "df.corr(numeric_only=True)"
   ]
  },
  {
   "cell_type": "code",
   "execution_count": 36,
   "id": "6b79ca97",
   "metadata": {},
   "outputs": [
    {
     "data": {
      "image/png": "[encoded data removed]",
      "text/plain": [
       "<Figure size 1500x800 with 2 Axes>"
      ]
     },
     "metadata": {},
     "output_type": "display_data"
    }
   ],
   "source": [
    "plt.figure(figsize=(15, 8))\n",
    "sns.heatmap(df.corr() , annot = True)\n",
    "plt.show()"
   ]
  },
  {
   "cell_type": "markdown",
   "id": "8a6ff2d9",
   "metadata": {},
   "source": [
    "### Splitting data"
   ]
  },
  {
   "cell_type": "code",
   "execution_count": 37,
   "id": "8ede9155",
   "metadata": {},
   "outputs": [],
   "source": [
    "y=df['label']"
   ]
  },
  {
   "cell_type": "code",
   "execution_count": 38,
   "id": "2bf95c54",
   "metadata": {},
   "outputs": [],
   "source": [
    "X=df.drop(['label'] ,axis='columns')"
   ]
  },
  {
   "cell_type": "markdown",
   "id": "31f024de",
   "metadata": {},
   "source": [
    "# Splitting Training and Testing Data"
   ]
  },
  {
   "cell_type": "code",
   "execution_count": 39,
   "id": "ac2b45c3",
   "metadata": {},
   "outputs": [],
   "source": [
    "from sklearn.model_selection import train_test_split"
   ]
  },
  {
   "cell_type": "code",
   "execution_count": 40,
   "id": "38c637f2",
   "metadata": {},
   "outputs": [],
   "source": [
    "X_train, X_test, y_train, y_test = train_test_split(X, y, test_size=0.33, random_state=42)"
   ]
  },
  {
   "cell_type": "code",
   "execution_count": 41,
   "id": "30f6bfaa",
   "metadata": {},
   "outputs": [
    {
     "data": {
      "image/png": "[encoded data removed]",
      "text/plain": [
       "<Figure size 640x480 with 1 Axes>"
      ]
     },
     "metadata": {},
     "output_type": "display_data"
    }
   ],
   "source": [
    "X_train.plot()\n",
    "plt.xlim(0,200)\n",
    "plt.show()"
   ]
  },
  {
   "cell_type": "code",
   "execution_count": null,
   "id": "41ffa1fc",
   "metadata": {},
   "outputs": [],
   "source": []
  },
  {
   "cell_type": "markdown",
   "id": "6fda4d47",
   "metadata": {},
   "source": [
    "# Normalization"
   ]
  },
  {
   "cell_type": "code",
   "execution_count": 42,
   "id": "230b8f52",
   "metadata": {},
   "outputs": [],
   "source": [
    "from sklearn.preprocessing import MinMaxScaler"
   ]
  },
  {
   "cell_type": "code",
   "execution_count": 43,
   "id": "9734e248",
   "metadata": {},
   "outputs": [],
   "source": [
    "scaler = MinMaxScaler()"
   ]
  },
  {
   "cell_type": "code",
   "execution_count": 44,
   "id": "a0f85b25",
   "metadata": {},
   "outputs": [],
   "source": [
    "X_train_cols=X_train.columns\n",
    "X_test_cols=X_test.columns"
   ]
  },
  {
   "cell_type": "code",
   "execution_count": 45,
   "id": "fe0c1b9c",
   "metadata": {},
   "outputs": [
    {
     "data": {
      "image/png": "[encoded data removed]",
      "text/plain": [
       "<Figure size 640x480 with 1 Axes>"
      ]
     },
     "metadata": {},
     "output_type": "display_data"
    }
   ],
   "source": []
  },
  {
   "cell_type": "markdown",
   "id": "7c733f7e",
   "metadata": {},
   "source": [
    "### Fit transforming training data and transforming testing data"
   ]
  },
  {
   "cell_type": "code",
   "execution_count": 48,
   "id": "a98aca14",
   "metadata": {},
   "outputs": [],
   "source": [
    "X_train = scaler.fit_transform(X_train)\n",
    "X_test = scaler.transform(X_test)"
   ]
  },
  {
   "cell_type": "code",
   "execution_count": 49,
   "id": "37173073",
   "metadata": {},
   "outputs": [
    {
     "data": {
      "text/plain": [
       "array([[2.79818182e-02, 0.00000000e+00, 4.98681808e-02, ...,\n",
       "        0.00000000e+00, 0.00000000e+00, 0.00000000e+00],\n",
       "       [2.79818182e-02, 0.00000000e+00, 3.39717947e-03, ...,\n",
       "        3.36134454e-02, 6.00813737e-05, 0.00000000e+00],\n",
       "       [2.81272727e-02, 0.00000000e+00, 1.96693614e-04, ...,\n",
       "        1.68067227e-02, 6.00813737e-05, 0.00000000e+00],\n",
       "       ...,\n",
       "       [4.19818182e-02, 0.00000000e+00, 1.01805949e-02, ...,\n",
       "        3.36134454e-02, 6.00813737e-05, 2.11538462e-01],\n",
       "       [1.40545455e-02, 2.50000000e-01, 1.86431932e-04, ...,\n",
       "        3.36134454e-02, 6.00813737e-05, 0.00000000e+00],\n",
       "       [0.00000000e+00, 0.00000000e+00, 1.57953774e-04, ...,\n",
       "        1.68067227e-02, 6.00813737e-05, 0.00000000e+00]])"
      ]
     },
     "execution_count": 49,
     "metadata": {},
     "output_type": "execute_result"
    }
   ],
   "source": [
    "X_train"
   ]
  },
  {
   "cell_type": "code",
   "execution_count": 50,
   "id": "e9673b51",
   "metadata": {},
   "outputs": [
    {
     "data": {
      "text/plain": [
       "array([[2.79818182e-02, 2.50000000e-01, 4.02086363e-04, ...,\n",
       "        3.36134454e-02, 6.00813737e-05, 2.11538462e-01],\n",
       "       [2.79818182e-02, 0.00000000e+00, 3.18299667e-04, ...,\n",
       "        1.68067227e-02, 6.00813737e-05, 2.11538462e-01],\n",
       "       [4.19818182e-02, 0.00000000e+00, 2.37787392e-02, ...,\n",
       "        1.00840336e-01, 1.20162747e-04, 2.44082840e-01],\n",
       "       ...,\n",
       "       [2.79818182e-02, 0.00000000e+00, 1.02322953e-01, ...,\n",
       "        3.52941176e-01, 1.20162747e-04, 2.34308227e-01],\n",
       "       [2.79818182e-02, 0.00000000e+00, 7.38134422e-03, ...,\n",
       "        1.26050420e-01, 6.00813737e-05, 2.09523810e-01],\n",
       "       [0.00000000e+00, 0.00000000e+00, 5.10374388e-03, ...,\n",
       "        1.68067227e-02, 6.00813737e-05, 0.00000000e+00]])"
      ]
     },
     "execution_count": 50,
     "metadata": {},
     "output_type": "execute_result"
    }
   ],
   "source": [
    "X_test"
   ]
  },
  {
   "cell_type": "markdown",
   "id": "2f2957e3",
   "metadata": {},
   "source": [
    "### Converting numpy array to Dataframe"
   ]
  },
  {
   "cell_type": "code",
   "execution_count": 51,
   "id": "ef9878ab",
   "metadata": {},
   "outputs": [],
   "source": [
    "X_train=pd.DataFrame(X_train)\n",
    "X_test=pd.DataFrame(X_test)"
   ]
  },
  {
   "cell_type": "code",
   "execution_count": 52,
   "id": "0a7e620f",
   "metadata": {},
   "outputs": [],
   "source": [
    "X_train.columns=X_train_cols\n",
    "X_test.columns=X_test_cols"
   ]
  },
  {
   "cell_type": "code",
   "execution_count": 53,
   "id": "255c98ab",
   "metadata": {},
   "outputs": [
    {
     "data": {
      "image/png": "[encoded data removed]",
      "text/plain": [
       "<Figure size 640x480 with 1 Axes>"
      ]
     },
     "metadata": {},
     "output_type": "display_data"
    }
   ],
   "source": [
    "X_train.plot()\n",
    "plt.xlim(0,200)\n",
    "plt.show()"
   ]
  },
  {
   "cell_type": "markdown",
   "id": "8b192d5c",
   "metadata": {},
   "source": [
    "# Logistic Regression"
   ]
  },
  {
   "cell_type": "markdown",
   "id": "1b2c14d5",
   "metadata": {},
   "source": [
    "## Finding Best Parameters Using Grid Search CV"
   ]
  },
  {
   "cell_type": "code",
   "execution_count": 49,
   "id": "d3b34e38",
   "metadata": {},
   "outputs": [],
   "source": [
    "from sklearn.model_selection import GridSearchCV\n",
    "from sklearn.model_selection import RepeatedStratifiedKFold"
   ]
  },
  {
   "cell_type": "code",
   "execution_count": 52,
   "id": "37559481",
   "metadata": {},
   "outputs": [],
   "source": [
    "from sklearn.linear_model import LogisticRegression\n",
    "from sklearn.model_selection import GridSearchCV\n",
    "\n",
    "model = LogisticRegression(max_iter=10000)  # Increase max_iter to a larger value\n",
    "param_grid = {\n",
    "    'penalty': ['l1', 'l2','none'],  # Use both 'l1' and 'l2' penalties\n",
    "    'C': [0.5, 0.01, 1, 2, 3, 4, 5, 10, 20, 30, 40, 50],\n",
    "    'solver': ['lbfgs', 'liblinear', 'newton-cg', 'sag', 'saga']\n",
    "}\n",
    "\n",
    "optimizer = GridSearchCV(model, param_grid, cv=3, scoring=\"accuracy\")"
   ]
  },
  {
   "cell_type": "code",
   "execution_count": 53,
   "id": "59a24276",
   "metadata": {},
   "outputs": [
    {
     "name": "stderr",
     "output_type": "stream",
     "text": [
      "D:\\New folder\\Lib\\site-packages\\sklearn\\linear_model\\_logistic.py:1173: FutureWarning: `penalty='none'`has been deprecated in 1.2 and will be removed in 1.4. To keep the past behaviour, set `penalty=None`.\n",
      "  warnings.warn(\n",
      "D:\\New folder\\Lib\\site-packages\\sklearn\\linear_model\\_logistic.py:1181: UserWarning: Setting penalty=None will ignore the C and l1_ratio parameters\n",
      "  warnings.warn(\n",
      "D:\\New folder\\Lib\\site-packages\\sklearn\\linear_model\\_logistic.py:1173: FutureWarning: `penalty='none'`has been deprecated in 1.2 and will be removed in 1.4. To keep the past behaviour, set `penalty=None`.\n",
      "  warnings.warn(\n",
      "D:\\New folder\\Lib\\site-packages\\sklearn\\linear_model\\_logistic.py:1181: UserWarning: Setting penalty=None will ignore the C and l1_ratio parameters\n",
      "  warnings.warn(\n",
      "D:\\New folder\\Lib\\site-packages\\sklearn\\linear_model\\_logistic.py:1173: FutureWarning: `penalty='none'`has been deprecated in 1.2 and will be removed in 1.4. To keep the past behaviour, set `penalty=None`.\n",
      "  warnings.warn(\n",
      "D:\\New folder\\Lib\\site-packages\\sklearn\\linear_model\\_logistic.py:1181: UserWarning: Setting penalty=None will ignore the C and l1_ratio parameters\n",
      "  warnings.warn(\n",
      "D:\\New folder\\Lib\\site-packages\\sklearn\\linear_model\\_logistic.py:1173: FutureWarning: `penalty='none'`has been deprecated in 1.2 and will be removed in 1.4. To keep the past behaviour, set `penalty=None`.\n",
      "  warnings.warn(\n",
      "D:\\New folder\\Lib\\site-packages\\sklearn\\linear_model\\_logistic.py:1181: UserWarning: Setting penalty=None will ignore the C and l1_ratio parameters\n",
      "  warnings.warn(\n",
      "D:\\New folder\\Lib\\site-packages\\sklearn\\linear_model\\_logistic.py:1173: FutureWarning: `penalty='none'`has been deprecated in 1.2 and will be removed in 1.4. To keep the past behaviour, set `penalty=None`.\n",
      "  warnings.warn(\n",
      "D:\\New folder\\Lib\\site-packages\\sklearn\\linear_model\\_logistic.py:1181: UserWarning: Setting penalty=None will ignore the C and l1_ratio parameters\n",
      "  warnings.warn(\n",
      "D:\\New folder\\Lib\\site-packages\\sklearn\\linear_model\\_logistic.py:1173: FutureWarning: `penalty='none'`has been deprecated in 1.2 and will be removed in 1.4. To keep the past behaviour, set `penalty=None`.\n",
      "  warnings.warn(\n",
      "D:\\New folder\\Lib\\site-packages\\sklearn\\linear_model\\_logistic.py:1181: UserWarning: Setting penalty=None will ignore the C and l1_ratio parameters\n",
      "  warnings.warn(\n",
      "D:\\New folder\\Lib\\site-packages\\sklearn\\linear_model\\_logistic.py:1173: FutureWarning: `penalty='none'`has been deprecated in 1.2 and will be removed in 1.4. To keep the past behaviour, set `penalty=None`.\n",
      "  warnings.warn(\n",
      "D:\\New folder\\Lib\\site-packages\\sklearn\\linear_model\\_logistic.py:1181: UserWarning: Setting penalty=None will ignore the C and l1_ratio parameters\n",
      "  warnings.warn(\n",
      "D:\\New folder\\Lib\\site-packages\\sklearn\\linear_model\\_logistic.py:1173: FutureWarning: `penalty='none'`has been deprecated in 1.2 and will be removed in 1.4. To keep the past behaviour, set `penalty=None`.\n",
      "  warnings.warn(\n",
      "D:\\New folder\\Lib\\site-packages\\sklearn\\linear_model\\_logistic.py:1181: UserWarning: Setting penalty=None will ignore the C and l1_ratio parameters\n",
      "  warnings.warn(\n",
      "D:\\New folder\\Lib\\site-packages\\sklearn\\linear_model\\_logistic.py:1173: FutureWarning: `penalty='none'`has been deprecated in 1.2 and will be removed in 1.4. To keep the past behaviour, set `penalty=None`.\n",
      "  warnings.warn(\n",
      "D:\\New folder\\Lib\\site-packages\\sklearn\\linear_model\\_logistic.py:1181: UserWarning: Setting penalty=None will ignore the C and l1_ratio parameters\n",
      "  warnings.warn(\n",
      "D:\\New folder\\Lib\\site-packages\\sklearn\\linear_model\\_logistic.py:1173: FutureWarning: `penalty='none'`has been deprecated in 1.2 and will be removed in 1.4. To keep the past behaviour, set `penalty=None`.\n",
      "  warnings.warn(\n",
      "D:\\New folder\\Lib\\site-packages\\sklearn\\linear_model\\_logistic.py:1181: UserWarning: Setting penalty=None will ignore the C and l1_ratio parameters\n",
      "  warnings.warn(\n",
      "D:\\New folder\\Lib\\site-packages\\sklearn\\linear_model\\_logistic.py:1173: FutureWarning: `penalty='none'`has been deprecated in 1.2 and will be removed in 1.4. To keep the past behaviour, set `penalty=None`.\n",
      "  warnings.warn(\n",
      "D:\\New folder\\Lib\\site-packages\\sklearn\\linear_model\\_logistic.py:1181: UserWarning: Setting penalty=None will ignore the C and l1_ratio parameters\n",
      "  warnings.warn(\n",
      "D:\\New folder\\Lib\\site-packages\\sklearn\\linear_model\\_logistic.py:1173: FutureWarning: `penalty='none'`has been deprecated in 1.2 and will be removed in 1.4. To keep the past behaviour, set `penalty=None`.\n",
      "  warnings.warn(\n",
      "D:\\New folder\\Lib\\site-packages\\sklearn\\linear_model\\_logistic.py:1181: UserWarning: Setting penalty=None will ignore the C and l1_ratio parameters\n",
      "  warnings.warn(\n",
      "D:\\New folder\\Lib\\site-packages\\sklearn\\linear_model\\_logistic.py:1173: FutureWarning: `penalty='none'`has been deprecated in 1.2 and will be removed in 1.4. To keep the past behaviour, set `penalty=None`.\n",
      "  warnings.warn(\n",
      "D:\\New folder\\Lib\\site-packages\\sklearn\\linear_model\\_logistic.py:1181: UserWarning: Setting penalty=None will ignore the C and l1_ratio parameters\n",
      "  warnings.warn(\n",
      "D:\\New folder\\Lib\\site-packages\\sklearn\\linear_model\\_logistic.py:1173: FutureWarning: `penalty='none'`has been deprecated in 1.2 and will be removed in 1.4. To keep the past behaviour, set `penalty=None`.\n",
      "  warnings.warn(\n",
      "D:\\New folder\\Lib\\site-packages\\sklearn\\linear_model\\_logistic.py:1181: UserWarning: Setting penalty=None will ignore the C and l1_ratio parameters\n",
      "  warnings.warn(\n",
      "D:\\New folder\\Lib\\site-packages\\sklearn\\linear_model\\_logistic.py:1173: FutureWarning: `penalty='none'`has been deprecated in 1.2 and will be removed in 1.4. To keep the past behaviour, set `penalty=None`.\n",
      "  warnings.warn(\n",
      "D:\\New folder\\Lib\\site-packages\\sklearn\\linear_model\\_logistic.py:1181: UserWarning: Setting penalty=None will ignore the C and l1_ratio parameters\n",
      "  warnings.warn(\n",
      "D:\\New folder\\Lib\\site-packages\\sklearn\\linear_model\\_logistic.py:1173: FutureWarning: `penalty='none'`has been deprecated in 1.2 and will be removed in 1.4. To keep the past behaviour, set `penalty=None`.\n",
      "  warnings.warn(\n",
      "D:\\New folder\\Lib\\site-packages\\sklearn\\linear_model\\_logistic.py:1181: UserWarning: Setting penalty=None will ignore the C and l1_ratio parameters\n",
      "  warnings.warn(\n",
      "D:\\New folder\\Lib\\site-packages\\sklearn\\linear_model\\_logistic.py:1173: FutureWarning: `penalty='none'`has been deprecated in 1.2 and will be removed in 1.4. To keep the past behaviour, set `penalty=None`.\n",
      "  warnings.warn(\n",
      "D:\\New folder\\Lib\\site-packages\\sklearn\\linear_model\\_logistic.py:1181: UserWarning: Setting penalty=None will ignore the C and l1_ratio parameters\n",
      "  warnings.warn(\n",
      "D:\\New folder\\Lib\\site-packages\\sklearn\\linear_model\\_logistic.py:1173: FutureWarning: `penalty='none'`has been deprecated in 1.2 and will be removed in 1.4. To keep the past behaviour, set `penalty=None`.\n",
      "  warnings.warn(\n",
      "D:\\New folder\\Lib\\site-packages\\sklearn\\linear_model\\_logistic.py:1181: UserWarning: Setting penalty=None will ignore the C and l1_ratio parameters\n",
      "  warnings.warn(\n",
      "D:\\New folder\\Lib\\site-packages\\sklearn\\linear_model\\_logistic.py:1173: FutureWarning: `penalty='none'`has been deprecated in 1.2 and will be removed in 1.4. To keep the past behaviour, set `penalty=None`.\n",
      "  warnings.warn(\n",
      "D:\\New folder\\Lib\\site-packages\\sklearn\\linear_model\\_logistic.py:1181: UserWarning: Setting penalty=None will ignore the C and l1_ratio parameters\n",
      "  warnings.warn(\n",
      "D:\\New folder\\Lib\\site-packages\\sklearn\\linear_model\\_logistic.py:1173: FutureWarning: `penalty='none'`has been deprecated in 1.2 and will be removed in 1.4. To keep the past behaviour, set `penalty=None`.\n",
      "  warnings.warn(\n",
      "D:\\New folder\\Lib\\site-packages\\sklearn\\linear_model\\_logistic.py:1181: UserWarning: Setting penalty=None will ignore the C and l1_ratio parameters\n",
      "  warnings.warn(\n",
      "D:\\New folder\\Lib\\site-packages\\sklearn\\linear_model\\_logistic.py:1173: FutureWarning: `penalty='none'`has been deprecated in 1.2 and will be removed in 1.4. To keep the past behaviour, set `penalty=None`.\n",
      "  warnings.warn(\n",
      "D:\\New folder\\Lib\\site-packages\\sklearn\\linear_model\\_logistic.py:1181: UserWarning: Setting penalty=None will ignore the C and l1_ratio parameters\n",
      "  warnings.warn(\n",
      "D:\\New folder\\Lib\\site-packages\\sklearn\\linear_model\\_logistic.py:1173: FutureWarning: `penalty='none'`has been deprecated in 1.2 and will be removed in 1.4. To keep the past behaviour, set `penalty=None`.\n",
      "  warnings.warn(\n",
      "D:\\New folder\\Lib\\site-packages\\sklearn\\linear_model\\_logistic.py:1181: UserWarning: Setting penalty=None will ignore the C and l1_ratio parameters\n",
      "  warnings.warn(\n"
     ]
    },
    {
     "name": "stderr",
     "output_type": "stream",
     "text": [
      "D:\\New folder\\Lib\\site-packages\\sklearn\\linear_model\\_logistic.py:1173: FutureWarning: `penalty='none'`has been deprecated in 1.2 and will be removed in 1.4. To keep the past behaviour, set `penalty=None`.\n",
      "  warnings.warn(\n",
      "D:\\New folder\\Lib\\site-packages\\sklearn\\linear_model\\_logistic.py:1181: UserWarning: Setting penalty=None will ignore the C and l1_ratio parameters\n",
      "  warnings.warn(\n",
      "D:\\New folder\\Lib\\site-packages\\sklearn\\linear_model\\_logistic.py:1173: FutureWarning: `penalty='none'`has been deprecated in 1.2 and will be removed in 1.4. To keep the past behaviour, set `penalty=None`.\n",
      "  warnings.warn(\n",
      "D:\\New folder\\Lib\\site-packages\\sklearn\\linear_model\\_logistic.py:1181: UserWarning: Setting penalty=None will ignore the C and l1_ratio parameters\n",
      "  warnings.warn(\n",
      "D:\\New folder\\Lib\\site-packages\\sklearn\\linear_model\\_logistic.py:1173: FutureWarning: `penalty='none'`has been deprecated in 1.2 and will be removed in 1.4. To keep the past behaviour, set `penalty=None`.\n",
      "  warnings.warn(\n",
      "D:\\New folder\\Lib\\site-packages\\sklearn\\linear_model\\_logistic.py:1173: FutureWarning: `penalty='none'`has been deprecated in 1.2 and will be removed in 1.4. To keep the past behaviour, set `penalty=None`.\n",
      "  warnings.warn(\n",
      "D:\\New folder\\Lib\\site-packages\\sklearn\\linear_model\\_logistic.py:1173: FutureWarning: `penalty='none'`has been deprecated in 1.2 and will be removed in 1.4. To keep the past behaviour, set `penalty=None`.\n",
      "  warnings.warn(\n",
      "D:\\New folder\\Lib\\site-packages\\sklearn\\linear_model\\_logistic.py:1173: FutureWarning: `penalty='none'`has been deprecated in 1.2 and will be removed in 1.4. To keep the past behaviour, set `penalty=None`.\n",
      "  warnings.warn(\n",
      "D:\\New folder\\Lib\\site-packages\\sklearn\\linear_model\\_logistic.py:1173: FutureWarning: `penalty='none'`has been deprecated in 1.2 and will be removed in 1.4. To keep the past behaviour, set `penalty=None`.\n",
      "  warnings.warn(\n",
      "D:\\New folder\\Lib\\site-packages\\sklearn\\linear_model\\_logistic.py:1173: FutureWarning: `penalty='none'`has been deprecated in 1.2 and will be removed in 1.4. To keep the past behaviour, set `penalty=None`.\n",
      "  warnings.warn(\n",
      "D:\\New folder\\Lib\\site-packages\\sklearn\\linear_model\\_logistic.py:1173: FutureWarning: `penalty='none'`has been deprecated in 1.2 and will be removed in 1.4. To keep the past behaviour, set `penalty=None`.\n",
      "  warnings.warn(\n",
      "D:\\New folder\\Lib\\site-packages\\sklearn\\linear_model\\_logistic.py:1173: FutureWarning: `penalty='none'`has been deprecated in 1.2 and will be removed in 1.4. To keep the past behaviour, set `penalty=None`.\n",
      "  warnings.warn(\n",
      "D:\\New folder\\Lib\\site-packages\\sklearn\\linear_model\\_logistic.py:1173: FutureWarning: `penalty='none'`has been deprecated in 1.2 and will be removed in 1.4. To keep the past behaviour, set `penalty=None`.\n",
      "  warnings.warn(\n",
      "D:\\New folder\\Lib\\site-packages\\sklearn\\linear_model\\_logistic.py:1173: FutureWarning: `penalty='none'`has been deprecated in 1.2 and will be removed in 1.4. To keep the past behaviour, set `penalty=None`.\n",
      "  warnings.warn(\n",
      "D:\\New folder\\Lib\\site-packages\\sklearn\\linear_model\\_logistic.py:1173: FutureWarning: `penalty='none'`has been deprecated in 1.2 and will be removed in 1.4. To keep the past behaviour, set `penalty=None`.\n",
      "  warnings.warn(\n",
      "D:\\New folder\\Lib\\site-packages\\sklearn\\linear_model\\_logistic.py:1173: FutureWarning: `penalty='none'`has been deprecated in 1.2 and will be removed in 1.4. To keep the past behaviour, set `penalty=None`.\n",
      "  warnings.warn(\n",
      "D:\\New folder\\Lib\\site-packages\\sklearn\\linear_model\\_logistic.py:1173: FutureWarning: `penalty='none'`has been deprecated in 1.2 and will be removed in 1.4. To keep the past behaviour, set `penalty=None`.\n",
      "  warnings.warn(\n",
      "D:\\New folder\\Lib\\site-packages\\sklearn\\linear_model\\_logistic.py:1181: UserWarning: Setting penalty=None will ignore the C and l1_ratio parameters\n",
      "  warnings.warn(\n",
      "D:\\New folder\\Lib\\site-packages\\sklearn\\linear_model\\_logistic.py:1173: FutureWarning: `penalty='none'`has been deprecated in 1.2 and will be removed in 1.4. To keep the past behaviour, set `penalty=None`.\n",
      "  warnings.warn(\n",
      "D:\\New folder\\Lib\\site-packages\\sklearn\\linear_model\\_logistic.py:1181: UserWarning: Setting penalty=None will ignore the C and l1_ratio parameters\n",
      "  warnings.warn(\n",
      "D:\\New folder\\Lib\\site-packages\\sklearn\\linear_model\\_logistic.py:1173: FutureWarning: `penalty='none'`has been deprecated in 1.2 and will be removed in 1.4. To keep the past behaviour, set `penalty=None`.\n",
      "  warnings.warn(\n",
      "D:\\New folder\\Lib\\site-packages\\sklearn\\linear_model\\_logistic.py:1181: UserWarning: Setting penalty=None will ignore the C and l1_ratio parameters\n",
      "  warnings.warn(\n",
      "D:\\New folder\\Lib\\site-packages\\sklearn\\linear_model\\_logistic.py:1173: FutureWarning: `penalty='none'`has been deprecated in 1.2 and will be removed in 1.4. To keep the past behaviour, set `penalty=None`.\n",
      "  warnings.warn(\n",
      "D:\\New folder\\Lib\\site-packages\\sklearn\\linear_model\\_logistic.py:1181: UserWarning: Setting penalty=None will ignore the C and l1_ratio parameters\n",
      "  warnings.warn(\n",
      "D:\\New folder\\Lib\\site-packages\\sklearn\\linear_model\\_logistic.py:1173: FutureWarning: `penalty='none'`has been deprecated in 1.2 and will be removed in 1.4. To keep the past behaviour, set `penalty=None`.\n",
      "  warnings.warn(\n",
      "D:\\New folder\\Lib\\site-packages\\sklearn\\linear_model\\_logistic.py:1181: UserWarning: Setting penalty=None will ignore the C and l1_ratio parameters\n",
      "  warnings.warn(\n",
      "D:\\New folder\\Lib\\site-packages\\sklearn\\linear_model\\_logistic.py:1173: FutureWarning: `penalty='none'`has been deprecated in 1.2 and will be removed in 1.4. To keep the past behaviour, set `penalty=None`.\n",
      "  warnings.warn(\n",
      "D:\\New folder\\Lib\\site-packages\\sklearn\\linear_model\\_logistic.py:1181: UserWarning: Setting penalty=None will ignore the C and l1_ratio parameters\n",
      "  warnings.warn(\n",
      "D:\\New folder\\Lib\\site-packages\\sklearn\\linear_model\\_logistic.py:1173: FutureWarning: `penalty='none'`has been deprecated in 1.2 and will be removed in 1.4. To keep the past behaviour, set `penalty=None`.\n",
      "  warnings.warn(\n",
      "D:\\New folder\\Lib\\site-packages\\sklearn\\linear_model\\_logistic.py:1181: UserWarning: Setting penalty=None will ignore the C and l1_ratio parameters\n",
      "  warnings.warn(\n",
      "D:\\New folder\\Lib\\site-packages\\sklearn\\linear_model\\_logistic.py:1173: FutureWarning: `penalty='none'`has been deprecated in 1.2 and will be removed in 1.4. To keep the past behaviour, set `penalty=None`.\n",
      "  warnings.warn(\n",
      "D:\\New folder\\Lib\\site-packages\\sklearn\\linear_model\\_logistic.py:1181: UserWarning: Setting penalty=None will ignore the C and l1_ratio parameters\n",
      "  warnings.warn(\n",
      "D:\\New folder\\Lib\\site-packages\\sklearn\\linear_model\\_logistic.py:1173: FutureWarning: `penalty='none'`has been deprecated in 1.2 and will be removed in 1.4. To keep the past behaviour, set `penalty=None`.\n",
      "  warnings.warn(\n",
      "D:\\New folder\\Lib\\site-packages\\sklearn\\linear_model\\_logistic.py:1181: UserWarning: Setting penalty=None will ignore the C and l1_ratio parameters\n",
      "  warnings.warn(\n",
      "D:\\New folder\\Lib\\site-packages\\sklearn\\linear_model\\_logistic.py:1173: FutureWarning: `penalty='none'`has been deprecated in 1.2 and will be removed in 1.4. To keep the past behaviour, set `penalty=None`.\n",
      "  warnings.warn(\n",
      "D:\\New folder\\Lib\\site-packages\\sklearn\\linear_model\\_logistic.py:1181: UserWarning: Setting penalty=None will ignore the C and l1_ratio parameters\n",
      "  warnings.warn(\n",
      "D:\\New folder\\Lib\\site-packages\\sklearn\\linear_model\\_logistic.py:1173: FutureWarning: `penalty='none'`has been deprecated in 1.2 and will be removed in 1.4. To keep the past behaviour, set `penalty=None`.\n",
      "  warnings.warn(\n",
      "D:\\New folder\\Lib\\site-packages\\sklearn\\linear_model\\_logistic.py:1181: UserWarning: Setting penalty=None will ignore the C and l1_ratio parameters\n",
      "  warnings.warn(\n",
      "D:\\New folder\\Lib\\site-packages\\sklearn\\linear_model\\_logistic.py:1173: FutureWarning: `penalty='none'`has been deprecated in 1.2 and will be removed in 1.4. To keep the past behaviour, set `penalty=None`.\n",
      "  warnings.warn(\n",
      "D:\\New folder\\Lib\\site-packages\\sklearn\\linear_model\\_logistic.py:1181: UserWarning: Setting penalty=None will ignore the C and l1_ratio parameters\n",
      "  warnings.warn(\n",
      "D:\\New folder\\Lib\\site-packages\\sklearn\\linear_model\\_logistic.py:1173: FutureWarning: `penalty='none'`has been deprecated in 1.2 and will be removed in 1.4. To keep the past behaviour, set `penalty=None`.\n",
      "  warnings.warn(\n",
      "D:\\New folder\\Lib\\site-packages\\sklearn\\linear_model\\_logistic.py:1181: UserWarning: Setting penalty=None will ignore the C and l1_ratio parameters\n",
      "  warnings.warn(\n"
     ]
    },
    {
     "name": "stderr",
     "output_type": "stream",
     "text": [
      "D:\\New folder\\Lib\\site-packages\\sklearn\\linear_model\\_logistic.py:1173: FutureWarning: `penalty='none'`has been deprecated in 1.2 and will be removed in 1.4. To keep the past behaviour, set `penalty=None`.\n",
      "  warnings.warn(\n",
      "D:\\New folder\\Lib\\site-packages\\sklearn\\linear_model\\_logistic.py:1181: UserWarning: Setting penalty=None will ignore the C and l1_ratio parameters\n",
      "  warnings.warn(\n",
      "D:\\New folder\\Lib\\site-packages\\sklearn\\linear_model\\_logistic.py:1173: FutureWarning: `penalty='none'`has been deprecated in 1.2 and will be removed in 1.4. To keep the past behaviour, set `penalty=None`.\n",
      "  warnings.warn(\n",
      "D:\\New folder\\Lib\\site-packages\\sklearn\\linear_model\\_logistic.py:1181: UserWarning: Setting penalty=None will ignore the C and l1_ratio parameters\n",
      "  warnings.warn(\n",
      "D:\\New folder\\Lib\\site-packages\\sklearn\\linear_model\\_logistic.py:1173: FutureWarning: `penalty='none'`has been deprecated in 1.2 and will be removed in 1.4. To keep the past behaviour, set `penalty=None`.\n",
      "  warnings.warn(\n",
      "D:\\New folder\\Lib\\site-packages\\sklearn\\linear_model\\_logistic.py:1181: UserWarning: Setting penalty=None will ignore the C and l1_ratio parameters\n",
      "  warnings.warn(\n",
      "D:\\New folder\\Lib\\site-packages\\sklearn\\linear_model\\_logistic.py:1173: FutureWarning: `penalty='none'`has been deprecated in 1.2 and will be removed in 1.4. To keep the past behaviour, set `penalty=None`.\n",
      "  warnings.warn(\n",
      "D:\\New folder\\Lib\\site-packages\\sklearn\\linear_model\\_logistic.py:1181: UserWarning: Setting penalty=None will ignore the C and l1_ratio parameters\n",
      "  warnings.warn(\n",
      "D:\\New folder\\Lib\\site-packages\\sklearn\\linear_model\\_logistic.py:1173: FutureWarning: `penalty='none'`has been deprecated in 1.2 and will be removed in 1.4. To keep the past behaviour, set `penalty=None`.\n",
      "  warnings.warn(\n",
      "D:\\New folder\\Lib\\site-packages\\sklearn\\linear_model\\_logistic.py:1181: UserWarning: Setting penalty=None will ignore the C and l1_ratio parameters\n",
      "  warnings.warn(\n",
      "D:\\New folder\\Lib\\site-packages\\sklearn\\linear_model\\_logistic.py:1173: FutureWarning: `penalty='none'`has been deprecated in 1.2 and will be removed in 1.4. To keep the past behaviour, set `penalty=None`.\n",
      "  warnings.warn(\n",
      "D:\\New folder\\Lib\\site-packages\\sklearn\\linear_model\\_logistic.py:1181: UserWarning: Setting penalty=None will ignore the C and l1_ratio parameters\n",
      "  warnings.warn(\n",
      "D:\\New folder\\Lib\\site-packages\\sklearn\\linear_model\\_logistic.py:1173: FutureWarning: `penalty='none'`has been deprecated in 1.2 and will be removed in 1.4. To keep the past behaviour, set `penalty=None`.\n",
      "  warnings.warn(\n",
      "D:\\New folder\\Lib\\site-packages\\sklearn\\linear_model\\_logistic.py:1181: UserWarning: Setting penalty=None will ignore the C and l1_ratio parameters\n",
      "  warnings.warn(\n",
      "D:\\New folder\\Lib\\site-packages\\sklearn\\linear_model\\_logistic.py:1173: FutureWarning: `penalty='none'`has been deprecated in 1.2 and will be removed in 1.4. To keep the past behaviour, set `penalty=None`.\n",
      "  warnings.warn(\n",
      "D:\\New folder\\Lib\\site-packages\\sklearn\\linear_model\\_logistic.py:1181: UserWarning: Setting penalty=None will ignore the C and l1_ratio parameters\n",
      "  warnings.warn(\n",
      "D:\\New folder\\Lib\\site-packages\\sklearn\\linear_model\\_logistic.py:1173: FutureWarning: `penalty='none'`has been deprecated in 1.2 and will be removed in 1.4. To keep the past behaviour, set `penalty=None`.\n",
      "  warnings.warn(\n",
      "D:\\New folder\\Lib\\site-packages\\sklearn\\linear_model\\_logistic.py:1181: UserWarning: Setting penalty=None will ignore the C and l1_ratio parameters\n",
      "  warnings.warn(\n",
      "D:\\New folder\\Lib\\site-packages\\sklearn\\linear_model\\_logistic.py:1173: FutureWarning: `penalty='none'`has been deprecated in 1.2 and will be removed in 1.4. To keep the past behaviour, set `penalty=None`.\n",
      "  warnings.warn(\n",
      "D:\\New folder\\Lib\\site-packages\\sklearn\\linear_model\\_logistic.py:1181: UserWarning: Setting penalty=None will ignore the C and l1_ratio parameters\n",
      "  warnings.warn(\n",
      "D:\\New folder\\Lib\\site-packages\\sklearn\\linear_model\\_logistic.py:1173: FutureWarning: `penalty='none'`has been deprecated in 1.2 and will be removed in 1.4. To keep the past behaviour, set `penalty=None`.\n",
      "  warnings.warn(\n",
      "D:\\New folder\\Lib\\site-packages\\sklearn\\linear_model\\_logistic.py:1181: UserWarning: Setting penalty=None will ignore the C and l1_ratio parameters\n",
      "  warnings.warn(\n",
      "D:\\New folder\\Lib\\site-packages\\sklearn\\linear_model\\_logistic.py:1173: FutureWarning: `penalty='none'`has been deprecated in 1.2 and will be removed in 1.4. To keep the past behaviour, set `penalty=None`.\n",
      "  warnings.warn(\n",
      "D:\\New folder\\Lib\\site-packages\\sklearn\\linear_model\\_logistic.py:1181: UserWarning: Setting penalty=None will ignore the C and l1_ratio parameters\n",
      "  warnings.warn(\n",
      "D:\\New folder\\Lib\\site-packages\\sklearn\\linear_model\\_logistic.py:1173: FutureWarning: `penalty='none'`has been deprecated in 1.2 and will be removed in 1.4. To keep the past behaviour, set `penalty=None`.\n",
      "  warnings.warn(\n",
      "D:\\New folder\\Lib\\site-packages\\sklearn\\linear_model\\_logistic.py:1181: UserWarning: Setting penalty=None will ignore the C and l1_ratio parameters\n",
      "  warnings.warn(\n",
      "D:\\New folder\\Lib\\site-packages\\sklearn\\linear_model\\_logistic.py:1173: FutureWarning: `penalty='none'`has been deprecated in 1.2 and will be removed in 1.4. To keep the past behaviour, set `penalty=None`.\n",
      "  warnings.warn(\n",
      "D:\\New folder\\Lib\\site-packages\\sklearn\\linear_model\\_logistic.py:1181: UserWarning: Setting penalty=None will ignore the C and l1_ratio parameters\n",
      "  warnings.warn(\n",
      "D:\\New folder\\Lib\\site-packages\\sklearn\\linear_model\\_logistic.py:1173: FutureWarning: `penalty='none'`has been deprecated in 1.2 and will be removed in 1.4. To keep the past behaviour, set `penalty=None`.\n",
      "  warnings.warn(\n",
      "D:\\New folder\\Lib\\site-packages\\sklearn\\linear_model\\_logistic.py:1181: UserWarning: Setting penalty=None will ignore the C and l1_ratio parameters\n",
      "  warnings.warn(\n",
      "D:\\New folder\\Lib\\site-packages\\sklearn\\linear_model\\_logistic.py:1173: FutureWarning: `penalty='none'`has been deprecated in 1.2 and will be removed in 1.4. To keep the past behaviour, set `penalty=None`.\n",
      "  warnings.warn(\n",
      "D:\\New folder\\Lib\\site-packages\\sklearn\\linear_model\\_logistic.py:1181: UserWarning: Setting penalty=None will ignore the C and l1_ratio parameters\n",
      "  warnings.warn(\n",
      "D:\\New folder\\Lib\\site-packages\\sklearn\\linear_model\\_logistic.py:1173: FutureWarning: `penalty='none'`has been deprecated in 1.2 and will be removed in 1.4. To keep the past behaviour, set `penalty=None`.\n",
      "  warnings.warn(\n",
      "D:\\New folder\\Lib\\site-packages\\sklearn\\linear_model\\_logistic.py:1181: UserWarning: Setting penalty=None will ignore the C and l1_ratio parameters\n",
      "  warnings.warn(\n",
      "D:\\New folder\\Lib\\site-packages\\sklearn\\linear_model\\_logistic.py:1173: FutureWarning: `penalty='none'`has been deprecated in 1.2 and will be removed in 1.4. To keep the past behaviour, set `penalty=None`.\n",
      "  warnings.warn(\n",
      "D:\\New folder\\Lib\\site-packages\\sklearn\\linear_model\\_logistic.py:1181: UserWarning: Setting penalty=None will ignore the C and l1_ratio parameters\n",
      "  warnings.warn(\n",
      "D:\\New folder\\Lib\\site-packages\\sklearn\\linear_model\\_logistic.py:1173: FutureWarning: `penalty='none'`has been deprecated in 1.2 and will be removed in 1.4. To keep the past behaviour, set `penalty=None`.\n",
      "  warnings.warn(\n",
      "D:\\New folder\\Lib\\site-packages\\sklearn\\linear_model\\_logistic.py:1181: UserWarning: Setting penalty=None will ignore the C and l1_ratio parameters\n",
      "  warnings.warn(\n",
      "D:\\New folder\\Lib\\site-packages\\sklearn\\linear_model\\_logistic.py:1173: FutureWarning: `penalty='none'`has been deprecated in 1.2 and will be removed in 1.4. To keep the past behaviour, set `penalty=None`.\n",
      "  warnings.warn(\n",
      "D:\\New folder\\Lib\\site-packages\\sklearn\\linear_model\\_logistic.py:1181: UserWarning: Setting penalty=None will ignore the C and l1_ratio parameters\n",
      "  warnings.warn(\n",
      "D:\\New folder\\Lib\\site-packages\\sklearn\\linear_model\\_logistic.py:1173: FutureWarning: `penalty='none'`has been deprecated in 1.2 and will be removed in 1.4. To keep the past behaviour, set `penalty=None`.\n",
      "  warnings.warn(\n",
      "D:\\New folder\\Lib\\site-packages\\sklearn\\linear_model\\_logistic.py:1181: UserWarning: Setting penalty=None will ignore the C and l1_ratio parameters\n",
      "  warnings.warn(\n",
      "D:\\New folder\\Lib\\site-packages\\sklearn\\linear_model\\_logistic.py:1173: FutureWarning: `penalty='none'`has been deprecated in 1.2 and will be removed in 1.4. To keep the past behaviour, set `penalty=None`.\n",
      "  warnings.warn(\n",
      "D:\\New folder\\Lib\\site-packages\\sklearn\\linear_model\\_logistic.py:1181: UserWarning: Setting penalty=None will ignore the C and l1_ratio parameters\n",
      "  warnings.warn(\n"
     ]
    },
    {
     "name": "stderr",
     "output_type": "stream",
     "text": [
      "D:\\New folder\\Lib\\site-packages\\sklearn\\linear_model\\_logistic.py:1173: FutureWarning: `penalty='none'`has been deprecated in 1.2 and will be removed in 1.4. To keep the past behaviour, set `penalty=None`.\n",
      "  warnings.warn(\n",
      "D:\\New folder\\Lib\\site-packages\\sklearn\\linear_model\\_logistic.py:1181: UserWarning: Setting penalty=None will ignore the C and l1_ratio parameters\n",
      "  warnings.warn(\n",
      "D:\\New folder\\Lib\\site-packages\\sklearn\\linear_model\\_logistic.py:1173: FutureWarning: `penalty='none'`has been deprecated in 1.2 and will be removed in 1.4. To keep the past behaviour, set `penalty=None`.\n",
      "  warnings.warn(\n",
      "D:\\New folder\\Lib\\site-packages\\sklearn\\linear_model\\_logistic.py:1181: UserWarning: Setting penalty=None will ignore the C and l1_ratio parameters\n",
      "  warnings.warn(\n",
      "D:\\New folder\\Lib\\site-packages\\sklearn\\linear_model\\_logistic.py:1173: FutureWarning: `penalty='none'`has been deprecated in 1.2 and will be removed in 1.4. To keep the past behaviour, set `penalty=None`.\n",
      "  warnings.warn(\n",
      "D:\\New folder\\Lib\\site-packages\\sklearn\\linear_model\\_logistic.py:1181: UserWarning: Setting penalty=None will ignore the C and l1_ratio parameters\n",
      "  warnings.warn(\n",
      "D:\\New folder\\Lib\\site-packages\\sklearn\\linear_model\\_logistic.py:1173: FutureWarning: `penalty='none'`has been deprecated in 1.2 and will be removed in 1.4. To keep the past behaviour, set `penalty=None`.\n",
      "  warnings.warn(\n",
      "D:\\New folder\\Lib\\site-packages\\sklearn\\linear_model\\_logistic.py:1181: UserWarning: Setting penalty=None will ignore the C and l1_ratio parameters\n",
      "  warnings.warn(\n",
      "D:\\New folder\\Lib\\site-packages\\sklearn\\linear_model\\_logistic.py:1173: FutureWarning: `penalty='none'`has been deprecated in 1.2 and will be removed in 1.4. To keep the past behaviour, set `penalty=None`.\n",
      "  warnings.warn(\n",
      "D:\\New folder\\Lib\\site-packages\\sklearn\\linear_model\\_logistic.py:1181: UserWarning: Setting penalty=None will ignore the C and l1_ratio parameters\n",
      "  warnings.warn(\n",
      "D:\\New folder\\Lib\\site-packages\\sklearn\\linear_model\\_logistic.py:1173: FutureWarning: `penalty='none'`has been deprecated in 1.2 and will be removed in 1.4. To keep the past behaviour, set `penalty=None`.\n",
      "  warnings.warn(\n",
      "D:\\New folder\\Lib\\site-packages\\sklearn\\linear_model\\_logistic.py:1181: UserWarning: Setting penalty=None will ignore the C and l1_ratio parameters\n",
      "  warnings.warn(\n",
      "D:\\New folder\\Lib\\site-packages\\sklearn\\linear_model\\_logistic.py:1173: FutureWarning: `penalty='none'`has been deprecated in 1.2 and will be removed in 1.4. To keep the past behaviour, set `penalty=None`.\n",
      "  warnings.warn(\n",
      "D:\\New folder\\Lib\\site-packages\\sklearn\\linear_model\\_logistic.py:1181: UserWarning: Setting penalty=None will ignore the C and l1_ratio parameters\n",
      "  warnings.warn(\n",
      "D:\\New folder\\Lib\\site-packages\\sklearn\\linear_model\\_logistic.py:1173: FutureWarning: `penalty='none'`has been deprecated in 1.2 and will be removed in 1.4. To keep the past behaviour, set `penalty=None`.\n",
      "  warnings.warn(\n",
      "D:\\New folder\\Lib\\site-packages\\sklearn\\linear_model\\_logistic.py:1181: UserWarning: Setting penalty=None will ignore the C and l1_ratio parameters\n",
      "  warnings.warn(\n",
      "D:\\New folder\\Lib\\site-packages\\sklearn\\linear_model\\_logistic.py:1173: FutureWarning: `penalty='none'`has been deprecated in 1.2 and will be removed in 1.4. To keep the past behaviour, set `penalty=None`.\n",
      "  warnings.warn(\n",
      "D:\\New folder\\Lib\\site-packages\\sklearn\\linear_model\\_logistic.py:1181: UserWarning: Setting penalty=None will ignore the C and l1_ratio parameters\n",
      "  warnings.warn(\n",
      "D:\\New folder\\Lib\\site-packages\\sklearn\\linear_model\\_logistic.py:1173: FutureWarning: `penalty='none'`has been deprecated in 1.2 and will be removed in 1.4. To keep the past behaviour, set `penalty=None`.\n",
      "  warnings.warn(\n",
      "D:\\New folder\\Lib\\site-packages\\sklearn\\linear_model\\_logistic.py:1181: UserWarning: Setting penalty=None will ignore the C and l1_ratio parameters\n",
      "  warnings.warn(\n",
      "D:\\New folder\\Lib\\site-packages\\sklearn\\linear_model\\_logistic.py:1173: FutureWarning: `penalty='none'`has been deprecated in 1.2 and will be removed in 1.4. To keep the past behaviour, set `penalty=None`.\n",
      "  warnings.warn(\n",
      "D:\\New folder\\Lib\\site-packages\\sklearn\\linear_model\\_logistic.py:1181: UserWarning: Setting penalty=None will ignore the C and l1_ratio parameters\n",
      "  warnings.warn(\n",
      "D:\\New folder\\Lib\\site-packages\\sklearn\\linear_model\\_logistic.py:1173: FutureWarning: `penalty='none'`has been deprecated in 1.2 and will be removed in 1.4. To keep the past behaviour, set `penalty=None`.\n",
      "  warnings.warn(\n",
      "D:\\New folder\\Lib\\site-packages\\sklearn\\linear_model\\_logistic.py:1181: UserWarning: Setting penalty=None will ignore the C and l1_ratio parameters\n",
      "  warnings.warn(\n",
      "D:\\New folder\\Lib\\site-packages\\sklearn\\linear_model\\_logistic.py:1173: FutureWarning: `penalty='none'`has been deprecated in 1.2 and will be removed in 1.4. To keep the past behaviour, set `penalty=None`.\n",
      "  warnings.warn(\n",
      "D:\\New folder\\Lib\\site-packages\\sklearn\\linear_model\\_logistic.py:1181: UserWarning: Setting penalty=None will ignore the C and l1_ratio parameters\n",
      "  warnings.warn(\n",
      "D:\\New folder\\Lib\\site-packages\\sklearn\\linear_model\\_logistic.py:1173: FutureWarning: `penalty='none'`has been deprecated in 1.2 and will be removed in 1.4. To keep the past behaviour, set `penalty=None`.\n",
      "  warnings.warn(\n",
      "D:\\New folder\\Lib\\site-packages\\sklearn\\linear_model\\_logistic.py:1181: UserWarning: Setting penalty=None will ignore the C and l1_ratio parameters\n",
      "  warnings.warn(\n",
      "D:\\New folder\\Lib\\site-packages\\sklearn\\linear_model\\_logistic.py:1173: FutureWarning: `penalty='none'`has been deprecated in 1.2 and will be removed in 1.4. To keep the past behaviour, set `penalty=None`.\n",
      "  warnings.warn(\n",
      "D:\\New folder\\Lib\\site-packages\\sklearn\\linear_model\\_logistic.py:1181: UserWarning: Setting penalty=None will ignore the C and l1_ratio parameters\n",
      "  warnings.warn(\n",
      "D:\\New folder\\Lib\\site-packages\\sklearn\\linear_model\\_logistic.py:1173: FutureWarning: `penalty='none'`has been deprecated in 1.2 and will be removed in 1.4. To keep the past behaviour, set `penalty=None`.\n",
      "  warnings.warn(\n",
      "D:\\New folder\\Lib\\site-packages\\sklearn\\linear_model\\_logistic.py:1181: UserWarning: Setting penalty=None will ignore the C and l1_ratio parameters\n",
      "  warnings.warn(\n",
      "D:\\New folder\\Lib\\site-packages\\sklearn\\linear_model\\_logistic.py:1173: FutureWarning: `penalty='none'`has been deprecated in 1.2 and will be removed in 1.4. To keep the past behaviour, set `penalty=None`.\n",
      "  warnings.warn(\n",
      "D:\\New folder\\Lib\\site-packages\\sklearn\\linear_model\\_logistic.py:1181: UserWarning: Setting penalty=None will ignore the C and l1_ratio parameters\n",
      "  warnings.warn(\n",
      "D:\\New folder\\Lib\\site-packages\\sklearn\\linear_model\\_logistic.py:1173: FutureWarning: `penalty='none'`has been deprecated in 1.2 and will be removed in 1.4. To keep the past behaviour, set `penalty=None`.\n",
      "  warnings.warn(\n",
      "D:\\New folder\\Lib\\site-packages\\sklearn\\linear_model\\_logistic.py:1181: UserWarning: Setting penalty=None will ignore the C and l1_ratio parameters\n",
      "  warnings.warn(\n",
      "D:\\New folder\\Lib\\site-packages\\sklearn\\linear_model\\_logistic.py:1173: FutureWarning: `penalty='none'`has been deprecated in 1.2 and will be removed in 1.4. To keep the past behaviour, set `penalty=None`.\n",
      "  warnings.warn(\n",
      "D:\\New folder\\Lib\\site-packages\\sklearn\\linear_model\\_logistic.py:1181: UserWarning: Setting penalty=None will ignore the C and l1_ratio parameters\n",
      "  warnings.warn(\n",
      "D:\\New folder\\Lib\\site-packages\\sklearn\\linear_model\\_logistic.py:1173: FutureWarning: `penalty='none'`has been deprecated in 1.2 and will be removed in 1.4. To keep the past behaviour, set `penalty=None`.\n",
      "  warnings.warn(\n",
      "D:\\New folder\\Lib\\site-packages\\sklearn\\linear_model\\_logistic.py:1181: UserWarning: Setting penalty=None will ignore the C and l1_ratio parameters\n",
      "  warnings.warn(\n",
      "D:\\New folder\\Lib\\site-packages\\sklearn\\linear_model\\_logistic.py:1173: FutureWarning: `penalty='none'`has been deprecated in 1.2 and will be removed in 1.4. To keep the past behaviour, set `penalty=None`.\n",
      "  warnings.warn(\n",
      "D:\\New folder\\Lib\\site-packages\\sklearn\\linear_model\\_logistic.py:1181: UserWarning: Setting penalty=None will ignore the C and l1_ratio parameters\n",
      "  warnings.warn(\n",
      "D:\\New folder\\Lib\\site-packages\\sklearn\\linear_model\\_logistic.py:1173: FutureWarning: `penalty='none'`has been deprecated in 1.2 and will be removed in 1.4. To keep the past behaviour, set `penalty=None`.\n",
      "  warnings.warn(\n",
      "D:\\New folder\\Lib\\site-packages\\sklearn\\linear_model\\_logistic.py:1181: UserWarning: Setting penalty=None will ignore the C and l1_ratio parameters\n",
      "  warnings.warn(\n"
     ]
    },
    {
     "name": "stderr",
     "output_type": "stream",
     "text": [
      "D:\\New folder\\Lib\\site-packages\\sklearn\\linear_model\\_logistic.py:1173: FutureWarning: `penalty='none'`has been deprecated in 1.2 and will be removed in 1.4. To keep the past behaviour, set `penalty=None`.\n",
      "  warnings.warn(\n",
      "D:\\New folder\\Lib\\site-packages\\sklearn\\linear_model\\_logistic.py:1181: UserWarning: Setting penalty=None will ignore the C and l1_ratio parameters\n",
      "  warnings.warn(\n",
      "D:\\New folder\\Lib\\site-packages\\sklearn\\linear_model\\_logistic.py:1173: FutureWarning: `penalty='none'`has been deprecated in 1.2 and will be removed in 1.4. To keep the past behaviour, set `penalty=None`.\n",
      "  warnings.warn(\n",
      "D:\\New folder\\Lib\\site-packages\\sklearn\\linear_model\\_logistic.py:1181: UserWarning: Setting penalty=None will ignore the C and l1_ratio parameters\n",
      "  warnings.warn(\n",
      "D:\\New folder\\Lib\\site-packages\\sklearn\\linear_model\\_logistic.py:1173: FutureWarning: `penalty='none'`has been deprecated in 1.2 and will be removed in 1.4. To keep the past behaviour, set `penalty=None`.\n",
      "  warnings.warn(\n",
      "D:\\New folder\\Lib\\site-packages\\sklearn\\linear_model\\_logistic.py:1181: UserWarning: Setting penalty=None will ignore the C and l1_ratio parameters\n",
      "  warnings.warn(\n",
      "D:\\New folder\\Lib\\site-packages\\sklearn\\linear_model\\_logistic.py:1173: FutureWarning: `penalty='none'`has been deprecated in 1.2 and will be removed in 1.4. To keep the past behaviour, set `penalty=None`.\n",
      "  warnings.warn(\n",
      "D:\\New folder\\Lib\\site-packages\\sklearn\\linear_model\\_logistic.py:1181: UserWarning: Setting penalty=None will ignore the C and l1_ratio parameters\n",
      "  warnings.warn(\n",
      "D:\\New folder\\Lib\\site-packages\\sklearn\\linear_model\\_logistic.py:1173: FutureWarning: `penalty='none'`has been deprecated in 1.2 and will be removed in 1.4. To keep the past behaviour, set `penalty=None`.\n",
      "  warnings.warn(\n",
      "D:\\New folder\\Lib\\site-packages\\sklearn\\linear_model\\_logistic.py:1181: UserWarning: Setting penalty=None will ignore the C and l1_ratio parameters\n",
      "  warnings.warn(\n",
      "D:\\New folder\\Lib\\site-packages\\sklearn\\linear_model\\_logistic.py:1173: FutureWarning: `penalty='none'`has been deprecated in 1.2 and will be removed in 1.4. To keep the past behaviour, set `penalty=None`.\n",
      "  warnings.warn(\n",
      "D:\\New folder\\Lib\\site-packages\\sklearn\\linear_model\\_logistic.py:1181: UserWarning: Setting penalty=None will ignore the C and l1_ratio parameters\n",
      "  warnings.warn(\n",
      "D:\\New folder\\Lib\\site-packages\\sklearn\\linear_model\\_logistic.py:1173: FutureWarning: `penalty='none'`has been deprecated in 1.2 and will be removed in 1.4. To keep the past behaviour, set `penalty=None`.\n",
      "  warnings.warn(\n",
      "D:\\New folder\\Lib\\site-packages\\sklearn\\linear_model\\_logistic.py:1181: UserWarning: Setting penalty=None will ignore the C and l1_ratio parameters\n",
      "  warnings.warn(\n",
      "D:\\New folder\\Lib\\site-packages\\sklearn\\linear_model\\_logistic.py:1173: FutureWarning: `penalty='none'`has been deprecated in 1.2 and will be removed in 1.4. To keep the past behaviour, set `penalty=None`.\n",
      "  warnings.warn(\n",
      "D:\\New folder\\Lib\\site-packages\\sklearn\\linear_model\\_logistic.py:1181: UserWarning: Setting penalty=None will ignore the C and l1_ratio parameters\n",
      "  warnings.warn(\n",
      "D:\\New folder\\Lib\\site-packages\\sklearn\\linear_model\\_logistic.py:1173: FutureWarning: `penalty='none'`has been deprecated in 1.2 and will be removed in 1.4. To keep the past behaviour, set `penalty=None`.\n",
      "  warnings.warn(\n",
      "D:\\New folder\\Lib\\site-packages\\sklearn\\linear_model\\_logistic.py:1181: UserWarning: Setting penalty=None will ignore the C and l1_ratio parameters\n",
      "  warnings.warn(\n",
      "D:\\New folder\\Lib\\site-packages\\sklearn\\linear_model\\_logistic.py:1173: FutureWarning: `penalty='none'`has been deprecated in 1.2 and will be removed in 1.4. To keep the past behaviour, set `penalty=None`.\n",
      "  warnings.warn(\n",
      "D:\\New folder\\Lib\\site-packages\\sklearn\\linear_model\\_logistic.py:1181: UserWarning: Setting penalty=None will ignore the C and l1_ratio parameters\n",
      "  warnings.warn(\n",
      "D:\\New folder\\Lib\\site-packages\\sklearn\\linear_model\\_logistic.py:1173: FutureWarning: `penalty='none'`has been deprecated in 1.2 and will be removed in 1.4. To keep the past behaviour, set `penalty=None`.\n",
      "  warnings.warn(\n",
      "D:\\New folder\\Lib\\site-packages\\sklearn\\linear_model\\_logistic.py:1181: UserWarning: Setting penalty=None will ignore the C and l1_ratio parameters\n",
      "  warnings.warn(\n",
      "D:\\New folder\\Lib\\site-packages\\sklearn\\linear_model\\_logistic.py:1173: FutureWarning: `penalty='none'`has been deprecated in 1.2 and will be removed in 1.4. To keep the past behaviour, set `penalty=None`.\n",
      "  warnings.warn(\n",
      "D:\\New folder\\Lib\\site-packages\\sklearn\\linear_model\\_logistic.py:1181: UserWarning: Setting penalty=None will ignore the C and l1_ratio parameters\n",
      "  warnings.warn(\n",
      "D:\\New folder\\Lib\\site-packages\\sklearn\\linear_model\\_logistic.py:1173: FutureWarning: `penalty='none'`has been deprecated in 1.2 and will be removed in 1.4. To keep the past behaviour, set `penalty=None`.\n",
      "  warnings.warn(\n",
      "D:\\New folder\\Lib\\site-packages\\sklearn\\linear_model\\_logistic.py:1181: UserWarning: Setting penalty=None will ignore the C and l1_ratio parameters\n",
      "  warnings.warn(\n",
      "D:\\New folder\\Lib\\site-packages\\sklearn\\linear_model\\_logistic.py:1173: FutureWarning: `penalty='none'`has been deprecated in 1.2 and will be removed in 1.4. To keep the past behaviour, set `penalty=None`.\n",
      "  warnings.warn(\n",
      "D:\\New folder\\Lib\\site-packages\\sklearn\\linear_model\\_logistic.py:1181: UserWarning: Setting penalty=None will ignore the C and l1_ratio parameters\n",
      "  warnings.warn(\n",
      "D:\\New folder\\Lib\\site-packages\\sklearn\\linear_model\\_logistic.py:1173: FutureWarning: `penalty='none'`has been deprecated in 1.2 and will be removed in 1.4. To keep the past behaviour, set `penalty=None`.\n",
      "  warnings.warn(\n",
      "D:\\New folder\\Lib\\site-packages\\sklearn\\linear_model\\_logistic.py:1181: UserWarning: Setting penalty=None will ignore the C and l1_ratio parameters\n",
      "  warnings.warn(\n",
      "D:\\New folder\\Lib\\site-packages\\sklearn\\linear_model\\_logistic.py:1173: FutureWarning: `penalty='none'`has been deprecated in 1.2 and will be removed in 1.4. To keep the past behaviour, set `penalty=None`.\n",
      "  warnings.warn(\n",
      "D:\\New folder\\Lib\\site-packages\\sklearn\\linear_model\\_logistic.py:1181: UserWarning: Setting penalty=None will ignore the C and l1_ratio parameters\n",
      "  warnings.warn(\n",
      "D:\\New folder\\Lib\\site-packages\\sklearn\\linear_model\\_logistic.py:1173: FutureWarning: `penalty='none'`has been deprecated in 1.2 and will be removed in 1.4. To keep the past behaviour, set `penalty=None`.\n",
      "  warnings.warn(\n",
      "D:\\New folder\\Lib\\site-packages\\sklearn\\linear_model\\_logistic.py:1181: UserWarning: Setting penalty=None will ignore the C and l1_ratio parameters\n",
      "  warnings.warn(\n",
      "D:\\New folder\\Lib\\site-packages\\sklearn\\linear_model\\_logistic.py:1173: FutureWarning: `penalty='none'`has been deprecated in 1.2 and will be removed in 1.4. To keep the past behaviour, set `penalty=None`.\n",
      "  warnings.warn(\n",
      "D:\\New folder\\Lib\\site-packages\\sklearn\\linear_model\\_logistic.py:1181: UserWarning: Setting penalty=None will ignore the C and l1_ratio parameters\n",
      "  warnings.warn(\n",
      "D:\\New folder\\Lib\\site-packages\\sklearn\\linear_model\\_logistic.py:1173: FutureWarning: `penalty='none'`has been deprecated in 1.2 and will be removed in 1.4. To keep the past behaviour, set `penalty=None`.\n",
      "  warnings.warn(\n",
      "D:\\New folder\\Lib\\site-packages\\sklearn\\linear_model\\_logistic.py:1181: UserWarning: Setting penalty=None will ignore the C and l1_ratio parameters\n",
      "  warnings.warn(\n",
      "D:\\New folder\\Lib\\site-packages\\sklearn\\linear_model\\_logistic.py:1173: FutureWarning: `penalty='none'`has been deprecated in 1.2 and will be removed in 1.4. To keep the past behaviour, set `penalty=None`.\n",
      "  warnings.warn(\n",
      "D:\\New folder\\Lib\\site-packages\\sklearn\\linear_model\\_logistic.py:1181: UserWarning: Setting penalty=None will ignore the C and l1_ratio parameters\n",
      "  warnings.warn(\n",
      "D:\\New folder\\Lib\\site-packages\\sklearn\\linear_model\\_logistic.py:1173: FutureWarning: `penalty='none'`has been deprecated in 1.2 and will be removed in 1.4. To keep the past behaviour, set `penalty=None`.\n",
      "  warnings.warn(\n",
      "D:\\New folder\\Lib\\site-packages\\sklearn\\linear_model\\_logistic.py:1181: UserWarning: Setting penalty=None will ignore the C and l1_ratio parameters\n",
      "  warnings.warn(\n",
      "D:\\New folder\\Lib\\site-packages\\sklearn\\linear_model\\_logistic.py:1173: FutureWarning: `penalty='none'`has been deprecated in 1.2 and will be removed in 1.4. To keep the past behaviour, set `penalty=None`.\n",
      "  warnings.warn(\n",
      "D:\\New folder\\Lib\\site-packages\\sklearn\\linear_model\\_logistic.py:1181: UserWarning: Setting penalty=None will ignore the C and l1_ratio parameters\n",
      "  warnings.warn(\n"
     ]
    },
    {
     "name": "stderr",
     "output_type": "stream",
     "text": [
      "D:\\New folder\\Lib\\site-packages\\sklearn\\linear_model\\_logistic.py:1173: FutureWarning: `penalty='none'`has been deprecated in 1.2 and will be removed in 1.4. To keep the past behaviour, set `penalty=None`.\n",
      "  warnings.warn(\n",
      "D:\\New folder\\Lib\\site-packages\\sklearn\\linear_model\\_logistic.py:1181: UserWarning: Setting penalty=None will ignore the C and l1_ratio parameters\n",
      "  warnings.warn(\n",
      "D:\\New folder\\Lib\\site-packages\\sklearn\\linear_model\\_logistic.py:1173: FutureWarning: `penalty='none'`has been deprecated in 1.2 and will be removed in 1.4. To keep the past behaviour, set `penalty=None`.\n",
      "  warnings.warn(\n",
      "D:\\New folder\\Lib\\site-packages\\sklearn\\linear_model\\_logistic.py:1181: UserWarning: Setting penalty=None will ignore the C and l1_ratio parameters\n",
      "  warnings.warn(\n",
      "D:\\New folder\\Lib\\site-packages\\sklearn\\linear_model\\_logistic.py:1173: FutureWarning: `penalty='none'`has been deprecated in 1.2 and will be removed in 1.4. To keep the past behaviour, set `penalty=None`.\n",
      "  warnings.warn(\n",
      "D:\\New folder\\Lib\\site-packages\\sklearn\\linear_model\\_logistic.py:1181: UserWarning: Setting penalty=None will ignore the C and l1_ratio parameters\n",
      "  warnings.warn(\n",
      "D:\\New folder\\Lib\\site-packages\\sklearn\\linear_model\\_logistic.py:1173: FutureWarning: `penalty='none'`has been deprecated in 1.2 and will be removed in 1.4. To keep the past behaviour, set `penalty=None`.\n",
      "  warnings.warn(\n",
      "D:\\New folder\\Lib\\site-packages\\sklearn\\linear_model\\_logistic.py:1181: UserWarning: Setting penalty=None will ignore the C and l1_ratio parameters\n",
      "  warnings.warn(\n",
      "D:\\New folder\\Lib\\site-packages\\sklearn\\linear_model\\_logistic.py:1173: FutureWarning: `penalty='none'`has been deprecated in 1.2 and will be removed in 1.4. To keep the past behaviour, set `penalty=None`.\n",
      "  warnings.warn(\n",
      "D:\\New folder\\Lib\\site-packages\\sklearn\\linear_model\\_logistic.py:1181: UserWarning: Setting penalty=None will ignore the C and l1_ratio parameters\n",
      "  warnings.warn(\n",
      "D:\\New folder\\Lib\\site-packages\\sklearn\\linear_model\\_logistic.py:1173: FutureWarning: `penalty='none'`has been deprecated in 1.2 and will be removed in 1.4. To keep the past behaviour, set `penalty=None`.\n",
      "  warnings.warn(\n",
      "D:\\New folder\\Lib\\site-packages\\sklearn\\linear_model\\_logistic.py:1181: UserWarning: Setting penalty=None will ignore the C and l1_ratio parameters\n",
      "  warnings.warn(\n",
      "D:\\New folder\\Lib\\site-packages\\sklearn\\linear_model\\_logistic.py:1173: FutureWarning: `penalty='none'`has been deprecated in 1.2 and will be removed in 1.4. To keep the past behaviour, set `penalty=None`.\n",
      "  warnings.warn(\n",
      "D:\\New folder\\Lib\\site-packages\\sklearn\\linear_model\\_logistic.py:1181: UserWarning: Setting penalty=None will ignore the C and l1_ratio parameters\n",
      "  warnings.warn(\n",
      "D:\\New folder\\Lib\\site-packages\\sklearn\\linear_model\\_logistic.py:1173: FutureWarning: `penalty='none'`has been deprecated in 1.2 and will be removed in 1.4. To keep the past behaviour, set `penalty=None`.\n",
      "  warnings.warn(\n",
      "D:\\New folder\\Lib\\site-packages\\sklearn\\linear_model\\_logistic.py:1181: UserWarning: Setting penalty=None will ignore the C and l1_ratio parameters\n",
      "  warnings.warn(\n",
      "D:\\New folder\\Lib\\site-packages\\sklearn\\linear_model\\_logistic.py:1173: FutureWarning: `penalty='none'`has been deprecated in 1.2 and will be removed in 1.4. To keep the past behaviour, set `penalty=None`.\n",
      "  warnings.warn(\n",
      "D:\\New folder\\Lib\\site-packages\\sklearn\\linear_model\\_logistic.py:1181: UserWarning: Setting penalty=None will ignore the C and l1_ratio parameters\n",
      "  warnings.warn(\n",
      "D:\\New folder\\Lib\\site-packages\\sklearn\\linear_model\\_logistic.py:1173: FutureWarning: `penalty='none'`has been deprecated in 1.2 and will be removed in 1.4. To keep the past behaviour, set `penalty=None`.\n",
      "  warnings.warn(\n",
      "D:\\New folder\\Lib\\site-packages\\sklearn\\linear_model\\_logistic.py:1181: UserWarning: Setting penalty=None will ignore the C and l1_ratio parameters\n",
      "  warnings.warn(\n",
      "D:\\New folder\\Lib\\site-packages\\sklearn\\linear_model\\_logistic.py:1173: FutureWarning: `penalty='none'`has been deprecated in 1.2 and will be removed in 1.4. To keep the past behaviour, set `penalty=None`.\n",
      "  warnings.warn(\n",
      "D:\\New folder\\Lib\\site-packages\\sklearn\\linear_model\\_logistic.py:1181: UserWarning: Setting penalty=None will ignore the C and l1_ratio parameters\n",
      "  warnings.warn(\n",
      "D:\\New folder\\Lib\\site-packages\\sklearn\\linear_model\\_logistic.py:1173: FutureWarning: `penalty='none'`has been deprecated in 1.2 and will be removed in 1.4. To keep the past behaviour, set `penalty=None`.\n",
      "  warnings.warn(\n",
      "D:\\New folder\\Lib\\site-packages\\sklearn\\linear_model\\_logistic.py:1181: UserWarning: Setting penalty=None will ignore the C and l1_ratio parameters\n",
      "  warnings.warn(\n",
      "D:\\New folder\\Lib\\site-packages\\sklearn\\linear_model\\_logistic.py:1173: FutureWarning: `penalty='none'`has been deprecated in 1.2 and will be removed in 1.4. To keep the past behaviour, set `penalty=None`.\n",
      "  warnings.warn(\n",
      "D:\\New folder\\Lib\\site-packages\\sklearn\\linear_model\\_logistic.py:1181: UserWarning: Setting penalty=None will ignore the C and l1_ratio parameters\n",
      "  warnings.warn(\n",
      "D:\\New folder\\Lib\\site-packages\\sklearn\\linear_model\\_logistic.py:1173: FutureWarning: `penalty='none'`has been deprecated in 1.2 and will be removed in 1.4. To keep the past behaviour, set `penalty=None`.\n",
      "  warnings.warn(\n",
      "D:\\New folder\\Lib\\site-packages\\sklearn\\linear_model\\_logistic.py:1181: UserWarning: Setting penalty=None will ignore the C and l1_ratio parameters\n",
      "  warnings.warn(\n",
      "D:\\New folder\\Lib\\site-packages\\sklearn\\linear_model\\_logistic.py:1173: FutureWarning: `penalty='none'`has been deprecated in 1.2 and will be removed in 1.4. To keep the past behaviour, set `penalty=None`.\n",
      "  warnings.warn(\n",
      "D:\\New folder\\Lib\\site-packages\\sklearn\\linear_model\\_logistic.py:1181: UserWarning: Setting penalty=None will ignore the C and l1_ratio parameters\n",
      "  warnings.warn(\n",
      "D:\\New folder\\Lib\\site-packages\\sklearn\\linear_model\\_logistic.py:1173: FutureWarning: `penalty='none'`has been deprecated in 1.2 and will be removed in 1.4. To keep the past behaviour, set `penalty=None`.\n",
      "  warnings.warn(\n",
      "D:\\New folder\\Lib\\site-packages\\sklearn\\linear_model\\_logistic.py:1181: UserWarning: Setting penalty=None will ignore the C and l1_ratio parameters\n",
      "  warnings.warn(\n",
      "D:\\New folder\\Lib\\site-packages\\sklearn\\linear_model\\_logistic.py:1173: FutureWarning: `penalty='none'`has been deprecated in 1.2 and will be removed in 1.4. To keep the past behaviour, set `penalty=None`.\n",
      "  warnings.warn(\n",
      "D:\\New folder\\Lib\\site-packages\\sklearn\\linear_model\\_logistic.py:1181: UserWarning: Setting penalty=None will ignore the C and l1_ratio parameters\n",
      "  warnings.warn(\n",
      "D:\\New folder\\Lib\\site-packages\\sklearn\\linear_model\\_logistic.py:1173: FutureWarning: `penalty='none'`has been deprecated in 1.2 and will be removed in 1.4. To keep the past behaviour, set `penalty=None`.\n",
      "  warnings.warn(\n",
      "D:\\New folder\\Lib\\site-packages\\sklearn\\linear_model\\_logistic.py:1181: UserWarning: Setting penalty=None will ignore the C and l1_ratio parameters\n",
      "  warnings.warn(\n",
      "D:\\New folder\\Lib\\site-packages\\sklearn\\linear_model\\_logistic.py:1173: FutureWarning: `penalty='none'`has been deprecated in 1.2 and will be removed in 1.4. To keep the past behaviour, set `penalty=None`.\n",
      "  warnings.warn(\n",
      "D:\\New folder\\Lib\\site-packages\\sklearn\\linear_model\\_logistic.py:1181: UserWarning: Setting penalty=None will ignore the C and l1_ratio parameters\n",
      "  warnings.warn(\n",
      "D:\\New folder\\Lib\\site-packages\\sklearn\\linear_model\\_logistic.py:1173: FutureWarning: `penalty='none'`has been deprecated in 1.2 and will be removed in 1.4. To keep the past behaviour, set `penalty=None`.\n",
      "  warnings.warn(\n",
      "D:\\New folder\\Lib\\site-packages\\sklearn\\linear_model\\_logistic.py:1181: UserWarning: Setting penalty=None will ignore the C and l1_ratio parameters\n",
      "  warnings.warn(\n",
      "D:\\New folder\\Lib\\site-packages\\sklearn\\linear_model\\_logistic.py:1173: FutureWarning: `penalty='none'`has been deprecated in 1.2 and will be removed in 1.4. To keep the past behaviour, set `penalty=None`.\n",
      "  warnings.warn(\n",
      "D:\\New folder\\Lib\\site-packages\\sklearn\\linear_model\\_logistic.py:1181: UserWarning: Setting penalty=None will ignore the C and l1_ratio parameters\n",
      "  warnings.warn(\n",
      "D:\\New folder\\Lib\\site-packages\\sklearn\\linear_model\\_logistic.py:1173: FutureWarning: `penalty='none'`has been deprecated in 1.2 and will be removed in 1.4. To keep the past behaviour, set `penalty=None`.\n",
      "  warnings.warn(\n",
      "D:\\New folder\\Lib\\site-packages\\sklearn\\linear_model\\_logistic.py:1181: UserWarning: Setting penalty=None will ignore the C and l1_ratio parameters\n",
      "  warnings.warn(\n"
     ]
    },
    {
     "name": "stderr",
     "output_type": "stream",
     "text": [
      "D:\\New folder\\Lib\\site-packages\\sklearn\\linear_model\\_logistic.py:1173: FutureWarning: `penalty='none'`has been deprecated in 1.2 and will be removed in 1.4. To keep the past behaviour, set `penalty=None`.\n",
      "  warnings.warn(\n",
      "D:\\New folder\\Lib\\site-packages\\sklearn\\linear_model\\_logistic.py:1181: UserWarning: Setting penalty=None will ignore the C and l1_ratio parameters\n",
      "  warnings.warn(\n",
      "D:\\New folder\\Lib\\site-packages\\sklearn\\linear_model\\_logistic.py:1173: FutureWarning: `penalty='none'`has been deprecated in 1.2 and will be removed in 1.4. To keep the past behaviour, set `penalty=None`.\n",
      "  warnings.warn(\n",
      "D:\\New folder\\Lib\\site-packages\\sklearn\\linear_model\\_logistic.py:1181: UserWarning: Setting penalty=None will ignore the C and l1_ratio parameters\n",
      "  warnings.warn(\n",
      "D:\\New folder\\Lib\\site-packages\\sklearn\\linear_model\\_logistic.py:1173: FutureWarning: `penalty='none'`has been deprecated in 1.2 and will be removed in 1.4. To keep the past behaviour, set `penalty=None`.\n",
      "  warnings.warn(\n",
      "D:\\New folder\\Lib\\site-packages\\sklearn\\linear_model\\_logistic.py:1181: UserWarning: Setting penalty=None will ignore the C and l1_ratio parameters\n",
      "  warnings.warn(\n",
      "D:\\New folder\\Lib\\site-packages\\sklearn\\linear_model\\_logistic.py:1173: FutureWarning: `penalty='none'`has been deprecated in 1.2 and will be removed in 1.4. To keep the past behaviour, set `penalty=None`.\n",
      "  warnings.warn(\n",
      "D:\\New folder\\Lib\\site-packages\\sklearn\\linear_model\\_logistic.py:1181: UserWarning: Setting penalty=None will ignore the C and l1_ratio parameters\n",
      "  warnings.warn(\n",
      "D:\\New folder\\Lib\\site-packages\\sklearn\\linear_model\\_logistic.py:1173: FutureWarning: `penalty='none'`has been deprecated in 1.2 and will be removed in 1.4. To keep the past behaviour, set `penalty=None`.\n",
      "  warnings.warn(\n",
      "D:\\New folder\\Lib\\site-packages\\sklearn\\linear_model\\_logistic.py:1181: UserWarning: Setting penalty=None will ignore the C and l1_ratio parameters\n",
      "  warnings.warn(\n",
      "D:\\New folder\\Lib\\site-packages\\sklearn\\linear_model\\_logistic.py:1173: FutureWarning: `penalty='none'`has been deprecated in 1.2 and will be removed in 1.4. To keep the past behaviour, set `penalty=None`.\n",
      "  warnings.warn(\n",
      "D:\\New folder\\Lib\\site-packages\\sklearn\\linear_model\\_logistic.py:1181: UserWarning: Setting penalty=None will ignore the C and l1_ratio parameters\n",
      "  warnings.warn(\n",
      "D:\\New folder\\Lib\\site-packages\\sklearn\\linear_model\\_logistic.py:1173: FutureWarning: `penalty='none'`has been deprecated in 1.2 and will be removed in 1.4. To keep the past behaviour, set `penalty=None`.\n",
      "  warnings.warn(\n",
      "D:\\New folder\\Lib\\site-packages\\sklearn\\linear_model\\_logistic.py:1181: UserWarning: Setting penalty=None will ignore the C and l1_ratio parameters\n",
      "  warnings.warn(\n",
      "D:\\New folder\\Lib\\site-packages\\sklearn\\model_selection\\_validation.py:378: FitFailedWarning: \n",
      "144 fits failed out of a total of 540.\n",
      "The score on these train-test partitions for these parameters will be set to nan.\n",
      "If these failures are not expected, you can try to debug them by setting error_score='raise'.\n",
      "\n",
      "Below are more details about the failures:\n",
      "--------------------------------------------------------------------------------\n",
      "36 fits failed with the following error:\n",
      "Traceback (most recent call last):\n",
      "  File \"D:\\New folder\\Lib\\site-packages\\sklearn\\model_selection\\_validation.py\", line 686, in _fit_and_score\n",
      "    estimator.fit(X_train, y_train, **fit_params)\n",
      "  File \"D:\\New folder\\Lib\\site-packages\\sklearn\\linear_model\\_logistic.py\", line 1162, in fit\n",
      "    solver = _check_solver(self.solver, self.penalty, self.dual)\n",
      "             ^^^^^^^^^^^^^^^^^^^^^^^^^^^^^^^^^^^^^^^^^^^^^^^^^^^\n",
      "  File \"D:\\New folder\\Lib\\site-packages\\sklearn\\linear_model\\_logistic.py\", line 54, in _check_solver\n",
      "    raise ValueError(\n",
      "ValueError: Solver lbfgs supports only 'l2' or 'none' penalties, got l1 penalty.\n",
      "\n",
      "--------------------------------------------------------------------------------\n",
      "36 fits failed with the following error:\n",
      "Traceback (most recent call last):\n",
      "  File \"D:\\New folder\\Lib\\site-packages\\sklearn\\model_selection\\_validation.py\", line 686, in _fit_and_score\n",
      "    estimator.fit(X_train, y_train, **fit_params)\n",
      "  File \"D:\\New folder\\Lib\\site-packages\\sklearn\\linear_model\\_logistic.py\", line 1162, in fit\n",
      "    solver = _check_solver(self.solver, self.penalty, self.dual)\n",
      "             ^^^^^^^^^^^^^^^^^^^^^^^^^^^^^^^^^^^^^^^^^^^^^^^^^^^\n",
      "  File \"D:\\New folder\\Lib\\site-packages\\sklearn\\linear_model\\_logistic.py\", line 54, in _check_solver\n",
      "    raise ValueError(\n",
      "ValueError: Solver newton-cg supports only 'l2' or 'none' penalties, got l1 penalty.\n",
      "\n",
      "--------------------------------------------------------------------------------\n",
      "36 fits failed with the following error:\n",
      "Traceback (most recent call last):\n",
      "  File \"D:\\New folder\\Lib\\site-packages\\sklearn\\model_selection\\_validation.py\", line 686, in _fit_and_score\n",
      "    estimator.fit(X_train, y_train, **fit_params)\n",
      "  File \"D:\\New folder\\Lib\\site-packages\\sklearn\\linear_model\\_logistic.py\", line 1162, in fit\n",
      "    solver = _check_solver(self.solver, self.penalty, self.dual)\n",
      "             ^^^^^^^^^^^^^^^^^^^^^^^^^^^^^^^^^^^^^^^^^^^^^^^^^^^\n",
      "  File \"D:\\New folder\\Lib\\site-packages\\sklearn\\linear_model\\_logistic.py\", line 54, in _check_solver\n",
      "    raise ValueError(\n",
      "ValueError: Solver sag supports only 'l2' or 'none' penalties, got l1 penalty.\n",
      "\n",
      "--------------------------------------------------------------------------------\n",
      "36 fits failed with the following error:\n",
      "Traceback (most recent call last):\n",
      "  File \"D:\\New folder\\Lib\\site-packages\\sklearn\\model_selection\\_validation.py\", line 686, in _fit_and_score\n",
      "    estimator.fit(X_train, y_train, **fit_params)\n",
      "  File \"D:\\New folder\\Lib\\site-packages\\sklearn\\linear_model\\_logistic.py\", line 1162, in fit\n",
      "    solver = _check_solver(self.solver, self.penalty, self.dual)\n",
      "             ^^^^^^^^^^^^^^^^^^^^^^^^^^^^^^^^^^^^^^^^^^^^^^^^^^^\n",
      "  File \"D:\\New folder\\Lib\\site-packages\\sklearn\\linear_model\\_logistic.py\", line 71, in _check_solver\n",
      "    raise ValueError(\"penalty='none' is not supported for the liblinear solver\")\n",
      "ValueError: penalty='none' is not supported for the liblinear solver\n",
      "\n",
      "  warnings.warn(some_fits_failed_message, FitFailedWarning)\n",
      "D:\\New folder\\Lib\\site-packages\\sklearn\\model_selection\\_search.py:952: UserWarning: One or more of the test scores are non-finite: [      nan 0.8756088       nan       nan 0.8756088 0.8756088 0.8756088\n",
      " 0.8756088 0.8756088 0.8756088 0.8756088       nan 0.8756088 0.8756088\n",
      " 0.8756088       nan 0.8756088       nan       nan 0.8756088 0.8756088\n",
      " 0.8756088 0.8756088 0.8756088 0.8756088 0.8756088       nan 0.8756088\n",
      " 0.8756088 0.8756088       nan 0.8756088       nan       nan 0.8756088\n",
      " 0.8756088 0.8756088 0.8756088 0.8756088 0.8756088 0.8756088       nan\n",
      " 0.8756088 0.8756088 0.8756088       nan 0.8756088       nan       nan\n",
      " 0.8756088 0.8756088 0.8756088 0.8756088 0.8756088 0.8756088 0.8756088\n",
      "       nan 0.8756088 0.8756088 0.8756088       nan 0.8756088       nan\n",
      "       nan 0.8756088 0.8756088 0.8756088 0.8756088 0.8756088 0.8756088\n",
      " 0.8756088       nan 0.8756088 0.8756088 0.8756088       nan 0.8756088\n",
      "       nan       nan 0.8756088 0.8756088 0.8756088 0.8756088 0.8756088\n",
      " 0.8756088 0.8756088       nan 0.8756088 0.8756088 0.8756088       nan\n",
      " 0.8756088       nan       nan 0.8756088 0.8756088 0.8756088 0.8756088\n",
      " 0.8756088 0.8756088 0.8756088       nan 0.8756088 0.8756088 0.8756088\n",
      "       nan 0.8756088       nan       nan 0.8756088 0.8756088 0.8756088\n",
      " 0.8756088 0.8756088 0.8756088 0.8756088       nan 0.8756088 0.8756088\n",
      " 0.8756088       nan 0.8756088       nan       nan 0.8756088 0.8756088\n",
      " 0.8756088 0.8756088 0.8756088 0.8756088 0.8756088       nan 0.8756088\n",
      " 0.8756088 0.8756088       nan 0.8756088       nan       nan 0.8756088\n",
      " 0.8756088 0.8756088 0.8756088 0.8756088 0.8756088 0.8756088       nan\n",
      " 0.8756088 0.8756088 0.8756088       nan 0.8756088       nan       nan\n",
      " 0.8756088 0.8756088 0.8756088 0.8756088 0.8756088 0.8756088 0.8756088\n",
      "       nan 0.8756088 0.8756088 0.8756088       nan 0.8756088       nan\n",
      "       nan 0.8756088 0.8756088 0.8756088 0.8756088 0.8756088 0.8756088\n",
      " 0.8756088       nan 0.8756088 0.8756088 0.8756088]\n",
      "  warnings.warn(\n"
     ]
    }
   ],
   "source": [
    "op=optimizer.fit(X_train,y_train)"
   ]
  },
  {
   "cell_type": "code",
   "execution_count": 54,
   "id": "6b2526aa",
   "metadata": {},
   "outputs": [
    {
     "data": {
      "text/plain": [
       "0.8756087982227534"
      ]
     },
     "execution_count": 54,
     "metadata": {},
     "output_type": "execute_result"
    }
   ],
   "source": [
    "op.best_score_"
   ]
  },
  {
   "cell_type": "markdown",
   "id": "a131feaa",
   "metadata": {},
   "source": [
    "# KNN"
   ]
  },
  {
   "cell_type": "markdown",
   "id": "0236af3f",
   "metadata": {},
   "source": [
    "## Finding Best Parameters Using Grid Search CV"
   ]
  },
  {
   "cell_type": "code",
   "execution_count": 55,
   "id": "5d82fc27",
   "metadata": {},
   "outputs": [],
   "source": [
    "from sklearn.neighbors import KNeighborsClassifier\n",
    "from sklearn.model_selection import RandomizedSearchCV, StratifiedKFold"
   ]
  },
  {
   "cell_type": "code",
   "execution_count": 56,
   "id": "c54599a4",
   "metadata": {},
   "outputs": [],
   "source": [
    "from sklearn.neighbors import KNeighborsClassifier\n",
    "model = KNeighborsClassifier()\n",
    "k = range(1, 15, 2)\n",
    "mat = [\"euclidean\", \"manhattan\"]\n",
    "w = [\"uniform\"]\n",
    "\n",
    "search_space = dict(n_neighbors = k, metric = mat, weights = w)"
   ]
  },
  {
   "cell_type": "code",
   "execution_count": 57,
   "id": "a4cff801",
   "metadata": {},
   "outputs": [],
   "source": [
    "cv =StratifiedKFold(n_splits=5)"
   ]
  },
  {
   "cell_type": "code",
   "execution_count": 58,
   "id": "edc07176",
   "metadata": {},
   "outputs": [],
   "source": [
    "search = RandomizedSearchCV(estimator=model, param_distributions=search_space, n_iter=10, cv=cv, scoring=\"accuracy\", n_jobs=-1)\n"
   ]
  },
  {
   "cell_type": "code",
   "execution_count": 59,
   "id": "f1ad4697",
   "metadata": {},
   "outputs": [],
   "source": [
    "search_result = search.fit(X_train, y_train)"
   ]
  },
  {
   "cell_type": "code",
   "execution_count": 60,
   "id": "50f62901",
   "metadata": {},
   "outputs": [
    {
     "data": {
      "text/plain": [
       "0.9047839748625295"
      ]
     },
     "execution_count": 60,
     "metadata": {},
     "output_type": "execute_result"
    }
   ],
   "source": [
    "search_result.best_score_"
   ]
  },
  {
   "cell_type": "code",
   "execution_count": 61,
   "id": "175bb838",
   "metadata": {},
   "outputs": [
    {
     "data": {
      "text/plain": [
       "{'weights': 'uniform', 'n_neighbors': 13, 'metric': 'manhattan'}"
      ]
     },
     "execution_count": 61,
     "metadata": {},
     "output_type": "execute_result"
    }
   ],
   "source": [
    "search_result.best_params_"
   ]
  },
  {
   "cell_type": "markdown",
   "id": "88f5886c",
   "metadata": {},
   "source": [
    "## We are getting best score from KNN so we will using KNN model for training and testing"
   ]
  },
  {
   "cell_type": "code",
   "execution_count": 62,
   "id": "4e7de92f",
   "metadata": {},
   "outputs": [],
   "source": [
    "knn_model = KNeighborsClassifier(n_neighbors=13,weights='uniform',metric= 'manhattan')"
   ]
  },
  {
   "cell_type": "markdown",
   "id": "eaf72792",
   "metadata": {},
   "source": [
    "## Train model with training data"
   ]
  },
  {
   "cell_type": "code",
   "execution_count": 63,
   "id": "c05708ef",
   "metadata": {},
   "outputs": [
    {
     "data": {
      "text/html": [
       "<style>#sk-container-id-1 {color: black;background-color: white;}#sk-container-id-1 pre{padding: 0;}#sk-container-id-1 div.sk-toggleable {background-color: white;}#sk-container-id-1 label.sk-toggleable__label {cursor: pointer;display: block;width: 100%;margin-bottom: 0;padding: 0.3em;box-sizing: border-box;text-align: center;}#sk-container-id-1 label.sk-toggleable__label-arrow:before {content: \"▸\";float: left;margin-right: 0.25em;color: #696969;}#sk-container-id-1 label.sk-toggleable__label-arrow:hover:before {color: black;}#sk-container-id-1 div.sk-estimator:hover label.sk-toggleable__label-arrow:before {color: black;}#sk-container-id-1 div.sk-toggleable__content {max-height: 0;max-width: 0;overflow: hidden;text-align: left;background-color: #f0f8ff;}#sk-container-id-1 div.sk-toggleable__content pre {margin: 0.2em;color: black;border-radius: 0.25em;background-color: #f0f8ff;}#sk-container-id-1 input.sk-toggleable__control:checked~div.sk-toggleable__content {max-height: 200px;max-width: 100%;overflow: auto;}#sk-container-id-1 input.sk-toggleable__control:checked~label.sk-toggleable__label-arrow:before {content: \"▾\";}#sk-container-id-1 div.sk-estimator input.sk-toggleable__control:checked~label.sk-toggleable__label {background-color: #d4ebff;}#sk-container-id-1 div.sk-label input.sk-toggleable__control:checked~label.sk-toggleable__label {background-color: #d4ebff;}#sk-container-id-1 input.sk-hidden--visually {border: 0;clip: rect(1px 1px 1px 1px);clip: rect(1px, 1px, 1px, 1px);height: 1px;margin: -1px;overflow: hidden;padding: 0;position: absolute;width: 1px;}#sk-container-id-1 div.sk-estimator {font-family: monospace;background-color: #f0f8ff;border: 1px dotted black;border-radius: 0.25em;box-sizing: border-box;margin-bottom: 0.5em;}#sk-container-id-1 div.sk-estimator:hover {background-color: #d4ebff;}#sk-container-id-1 div.sk-parallel-item::after {content: \"\";width: 100%;border-bottom: 1px solid gray;flex-grow: 1;}#sk-container-id-1 div.sk-label:hover label.sk-toggleable__label {background-color: #d4ebff;}#sk-container-id-1 div.sk-serial::before {content: \"\";position: absolute;border-left: 1px solid gray;box-sizing: border-box;top: 0;bottom: 0;left: 50%;z-index: 0;}#sk-container-id-1 div.sk-serial {display: flex;flex-direction: column;align-items: center;background-color: white;padding-right: 0.2em;padding-left: 0.2em;position: relative;}#sk-container-id-1 div.sk-item {position: relative;z-index: 1;}#sk-container-id-1 div.sk-parallel {display: flex;align-items: stretch;justify-content: center;background-color: white;position: relative;}#sk-container-id-1 div.sk-item::before, #sk-container-id-1 div.sk-parallel-item::before {content: \"\";position: absolute;border-left: 1px solid gray;box-sizing: border-box;top: 0;bottom: 0;left: 50%;z-index: -1;}#sk-container-id-1 div.sk-parallel-item {display: flex;flex-direction: column;z-index: 1;position: relative;background-color: white;}#sk-container-id-1 div.sk-parallel-item:first-child::after {align-self: flex-end;width: 50%;}#sk-container-id-1 div.sk-parallel-item:last-child::after {align-self: flex-start;width: 50%;}#sk-container-id-1 div.sk-parallel-item:only-child::after {width: 0;}#sk-container-id-1 div.sk-dashed-wrapped {border: 1px dashed gray;margin: 0 0.4em 0.5em 0.4em;box-sizing: border-box;padding-bottom: 0.4em;background-color: white;}#sk-container-id-1 div.sk-label label {font-family: monospace;font-weight: bold;display: inline-block;line-height: 1.2em;}#sk-container-id-1 div.sk-label-container {text-align: center;}#sk-container-id-1 div.sk-container {/* jupyter's `normalize.less` sets `[hidden] { display: none; }` but bootstrap.min.css set `[hidden] { display: none !important; }` so we also need the `!important` here to be able to override the default hidden behavior on the sphinx rendered scikit-learn.org. See: https://github.com/scikit-learn/scikit-learn/issues/21755 */display: inline-block !important;position: relative;}#sk-container-id-1 div.sk-text-repr-fallback {display: none;}</style><div id=\"sk-container-id-1\" class=\"sk-top-container\"><div class=\"sk-text-repr-fallback\"><pre>KNeighborsClassifier(metric=&#x27;manhattan&#x27;, n_neighbors=13)</pre><b>In a Jupyter environment, please rerun this cell to show the HTML representation or trust the notebook. <br />On GitHub, the HTML representation is unable to render, please try loading this page with nbviewer.org.</b></div><div class=\"sk-container\" hidden><div class=\"sk-item\"><div class=\"sk-estimator sk-toggleable\"><input class=\"sk-toggleable__control sk-hidden--visually\" id=\"sk-estimator-id-1\" type=\"checkbox\" checked><label for=\"sk-estimator-id-1\" class=\"sk-toggleable__label sk-toggleable__label-arrow\">KNeighborsClassifier</label><div class=\"sk-toggleable__content\"><pre>KNeighborsClassifier(metric=&#x27;manhattan&#x27;, n_neighbors=13)</pre></div></div></div></div></div>"
      ],
      "text/plain": [
       "KNeighborsClassifier(metric='manhattan', n_neighbors=13)"
      ]
     },
     "execution_count": 63,
     "metadata": {},
     "output_type": "execute_result"
    }
   ],
   "source": [
    "knn_model.fit(X_train, y_train)"
   ]
  },
  {
   "cell_type": "code",
   "execution_count": 64,
   "id": "6abc5689",
   "metadata": {},
   "outputs": [],
   "source": [
    "y_out_knn = knn_model.predict(X_train)"
   ]
  },
  {
   "cell_type": "code",
   "execution_count": 65,
   "id": "8ed9a8f8",
   "metadata": {},
   "outputs": [
    {
     "name": "stdout",
     "output_type": "stream",
     "text": [
      "              precision    recall  f1-score   support\n",
      "\n",
      "           0       0.78      0.41      0.53     15835\n",
      "           1       0.92      0.98      0.95    111465\n",
      "\n",
      "    accuracy                           0.91    127300\n",
      "   macro avg       0.85      0.69      0.74    127300\n",
      "weighted avg       0.90      0.91      0.90    127300\n",
      "\n"
     ]
    }
   ],
   "source": [
    "from sklearn.metrics import classification_report\n",
    "print(classification_report(y_train, y_out_knn))"
   ]
  },
  {
   "cell_type": "code",
   "execution_count": 55,
   "id": "c99022dc",
   "metadata": {},
   "outputs": [],
   "source": [
    "from sklearn.metrics import confusion_matrix\n",
    "from sklearn.metrics import accuracy_score\n",
    "from sklearn.metrics import recall_score\n",
    "from sklearn.metrics import precision_score\n",
    "from sklearn.metrics import f1_score"
   ]
  },
  {
   "cell_type": "code",
   "execution_count": 56,
   "id": "69751b69",
   "metadata": {},
   "outputs": [
    {
     "ename": "NameError",
     "evalue": "name 'y_out_knn' is not defined",
     "output_type": "error",
     "traceback": [
      "\u001b[1;31m---------------------------------------------------------------------------\u001b[0m",
      "\u001b[1;31mNameError\u001b[0m                                 Traceback (most recent call last)",
      "Cell \u001b[1;32mIn[56], line 1\u001b[0m\n\u001b[1;32m----> 1\u001b[0m accuracy_score(y_train, y_out_knn)\n",
      "\u001b[1;31mNameError\u001b[0m: name 'y_out_knn' is not defined"
     ]
    }
   ],
   "source": [
    "accuracy_score(y_train, y_out_knn)"
   ]
  },
  {
   "cell_type": "markdown",
   "id": "1d0226a1",
   "metadata": {},
   "source": [
    "## Prediction using trained model"
   ]
  },
  {
   "cell_type": "code",
   "execution_count": 68,
   "id": "52081770",
   "metadata": {},
   "outputs": [],
   "source": [
    "y_pred_knn = knn_model.predict(X_test)"
   ]
  },
  {
   "cell_type": "code",
   "execution_count": 57,
   "id": "2c8c00c5",
   "metadata": {},
   "outputs": [
    {
     "ename": "NameError",
     "evalue": "name 'y_pred_knn' is not defined",
     "output_type": "error",
     "traceback": [
      "\u001b[1;31m---------------------------------------------------------------------------\u001b[0m",
      "\u001b[1;31mNameError\u001b[0m                                 Traceback (most recent call last)",
      "Cell \u001b[1;32mIn[57], line 1\u001b[0m\n\u001b[1;32m----> 1\u001b[0m log_CM \u001b[38;5;241m=\u001b[39m confusion_matrix(y_test, y_pred_knn, labels \u001b[38;5;241m=\u001b[39m [\u001b[38;5;241m0\u001b[39m, \u001b[38;5;241m1\u001b[39m])\n\u001b[0;32m      2\u001b[0m plt\u001b[38;5;241m.\u001b[39mfigure(figsize\u001b[38;5;241m=\u001b[39m(\u001b[38;5;241m7\u001b[39m,\u001b[38;5;241m5\u001b[39m))\n\u001b[0;32m      3\u001b[0m sns\u001b[38;5;241m.\u001b[39mheatmap(log_CM, annot \u001b[38;5;241m=\u001b[39m \u001b[38;5;28;01mTrue\u001b[39;00m)\n",
      "\u001b[1;31mNameError\u001b[0m: name 'y_pred_knn' is not defined"
     ]
    }
   ],
   "source": [
    "log_CM = confusion_matrix(y_test, y_pred_knn, labels = [0, 1])\n",
    "plt.figure(figsize=(7,5))\n",
    "sns.heatmap(log_CM, annot = True)\n",
    "plt.xlabel('Predicted Value')\n",
    "plt.ylabel('Actual Value')\n",
    "plt.title(\" Confusion Matrix\", fontsize=15,c=\"Green\")\n",
    "plt.show()"
   ]
  },
  {
   "cell_type": "code",
   "execution_count": 69,
   "id": "869c9eaf",
   "metadata": {},
   "outputs": [
    {
     "data": {
      "text/plain": [
       "array([[ 3079,  4823],\n",
       "       [ 1094, 53705]], dtype=int64)"
      ]
     },
     "execution_count": 69,
     "metadata": {},
     "output_type": "execute_result"
    }
   ],
   "source": [
    "confusion_matrix(y_test, y_pred_knn, labels = [0, 1])"
   ]
  },
  {
   "cell_type": "code",
   "execution_count": 70,
   "id": "cfb5ba46",
   "metadata": {},
   "outputs": [
    {
     "data": {
      "text/plain": [
       "0.9056314891309548"
      ]
     },
     "execution_count": 70,
     "metadata": {},
     "output_type": "execute_result"
    }
   ],
   "source": [
    "accuracy_score(y_test, y_pred_knn)"
   ]
  },
  {
   "cell_type": "code",
   "execution_count": 71,
   "id": "fdbf55e8",
   "metadata": {},
   "outputs": [
    {
     "data": {
      "text/plain": [
       "0.9800361320462052"
      ]
     },
     "execution_count": 71,
     "metadata": {},
     "output_type": "execute_result"
    }
   ],
   "source": [
    "recall_score(y_test, y_pred_knn)"
   ]
  },
  {
   "cell_type": "code",
   "execution_count": 72,
   "id": "cf82ec42",
   "metadata": {},
   "outputs": [
    {
     "data": {
      "text/plain": [
       "0.9175949972662657"
      ]
     },
     "execution_count": 72,
     "metadata": {},
     "output_type": "execute_result"
    }
   ],
   "source": [
    "precision_score(y_test, y_pred_knn)"
   ]
  },
  {
   "cell_type": "code",
   "execution_count": 73,
   "id": "f3b37b4c",
   "metadata": {},
   "outputs": [
    {
     "data": {
      "text/plain": [
       "0.9477882587556363"
      ]
     },
     "execution_count": 73,
     "metadata": {},
     "output_type": "execute_result"
    }
   ],
   "source": [
    "f1_score(y_test, y_pred_knn)"
   ]
  },
  {
   "cell_type": "code",
   "execution_count": null,
   "id": "745cb964",
   "metadata": {},
   "outputs": [],
   "source": []
  },
  {
   "cell_type": "code",
   "execution_count": null,
   "id": "79b24830",
   "metadata": {},
   "outputs": [],
   "source": []
  }
 ],
 "metadata": {
  "kernelspec": {
   "display_name": "Python 3 (ipykernel)",
   "language": "python",
   "name": "python3"
  },
  "language_info": {
   "codemirror_mode": {
    "name": "ipython",
    "version": 3
   },
   "file_extension": ".py",
   "mimetype": "text/x-python",
   "name": "python",
   "nbconvert_exporter": "python",
   "pygments_lexer": "ipython3",
   "version": "3.11.3"
  }
 },
 "nbformat": 4,
 "nbformat_minor": 5
}
